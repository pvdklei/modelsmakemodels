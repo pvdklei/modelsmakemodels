{
  "nbformat": 4,
  "nbformat_minor": 0,
  "metadata": {
    "colab": {
      "name": "ModelsMakeModels.ipynb",
      "provenance": [],
      "authorship_tag": "ABX9TyMAIcvRCYIuU4EdWSuaCB5y",
      "include_colab_link": true
    },
    "kernelspec": {
      "name": "python3",
      "display_name": "Python 3"
    },
    "accelerator": "GPU"
  },
  "cells": [
    {
      "cell_type": "markdown",
      "metadata": {
        "id": "view-in-github",
        "colab_type": "text"
      },
      "source": [
        "<a href=\"https://colab.research.google.com/github/pvdklei/modelsmakemodels/blob/master/ModelsMakeModels.ipynb\" target=\"_parent\"><img src=\"https://colab.research.google.com/assets/colab-badge.svg\" alt=\"Open In Colab\"/></a>"
      ]
    },
    {
      "cell_type": "markdown",
      "metadata": {
        "id": "rjD3Dr0KRedk"
      },
      "source": [
        "# BrainCreators Image Representation Research\r\n",
        "### By: team ModelsMakeModels; S. Broos, R. van Dort, P. van der Klei, T. Rood\r\n",
        "\r\n",
        "Note: Go to COLAB settings and run this notebook on the gpu for better performance"
      ]
    },
    {
      "cell_type": "code",
      "metadata": {
        "id": "VoVEtdkzRaIz"
      },
      "source": [
        ""
      ],
      "execution_count": null,
      "outputs": []
    }
  ]
}