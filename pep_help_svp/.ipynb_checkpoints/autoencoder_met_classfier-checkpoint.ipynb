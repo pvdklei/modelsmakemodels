{
 "cells": [
  {
   "cell_type": "markdown",
   "metadata": {
    "colab_type": "text",
    "id": "view-in-github"
   },
   "source": [
    "<a href=\"https://colab.research.google.com/github/pvdklei/modelsmakemodels/blob/master/pep_help_svp/autoencoder_met_classfier.ipynb\" target=\"_parent\"><img src=\"https://colab.research.google.com/assets/colab-badge.svg\" alt=\"Open In Colab\"/></a>"
   ]
  },
  {
   "cell_type": "code",
   "execution_count": 1,
   "metadata": {
    "id": "qnWwYxs2kjqa"
   },
   "outputs": [
    {
     "ename": "ModuleNotFoundError",
     "evalue": "No module named 'tensorflow'",
     "output_type": "error",
     "traceback": [
      "\u001b[0;31m---------------------------------------------------------------------------\u001b[0m",
      "\u001b[0;31mModuleNotFoundError\u001b[0m                       Traceback (most recent call last)",
      "\u001b[0;32m<ipython-input-1-713453e30f13>\u001b[0m in \u001b[0;36m<module>\u001b[0;34m\u001b[0m\n\u001b[1;32m      5\u001b[0m \u001b[0;32mfrom\u001b[0m \u001b[0mtorchvision\u001b[0m \u001b[0;32mimport\u001b[0m \u001b[0mdatasets\u001b[0m\u001b[0;34m,\u001b[0m \u001b[0mtransforms\u001b[0m\u001b[0;34m\u001b[0m\u001b[0;34m\u001b[0m\u001b[0m\n\u001b[1;32m      6\u001b[0m \u001b[0;32mfrom\u001b[0m \u001b[0mtorch\u001b[0m\u001b[0;34m.\u001b[0m\u001b[0mutils\u001b[0m\u001b[0;34m.\u001b[0m\u001b[0mdata\u001b[0m \u001b[0;32mimport\u001b[0m \u001b[0mDataLoader\u001b[0m\u001b[0;34m\u001b[0m\u001b[0;34m\u001b[0m\u001b[0m\n\u001b[0;32m----> 7\u001b[0;31m \u001b[0;32mimport\u001b[0m \u001b[0mtensorflow\u001b[0m \u001b[0;32mas\u001b[0m \u001b[0mtf\u001b[0m\u001b[0;34m\u001b[0m\u001b[0;34m\u001b[0m\u001b[0m\n\u001b[0m\u001b[1;32m      8\u001b[0m \u001b[0;32mimport\u001b[0m \u001b[0mtensorboard\u001b[0m \u001b[0;32mas\u001b[0m \u001b[0mtb\u001b[0m\u001b[0;34m\u001b[0m\u001b[0;34m\u001b[0m\u001b[0m\n\u001b[1;32m      9\u001b[0m \u001b[0;32mimport\u001b[0m \u001b[0mvisual_tools\u001b[0m \u001b[0;32mas\u001b[0m \u001b[0mvt\u001b[0m\u001b[0;34m\u001b[0m\u001b[0;34m\u001b[0m\u001b[0m\n",
      "\u001b[0;31mModuleNotFoundError\u001b[0m: No module named 'tensorflow'"
     ]
    }
   ],
   "source": [
    "import torch\n",
    "from torch import nn, optim\n",
    "import torch.nn.functional as F\n",
    "import torchvision\n",
    "from torchvision import datasets, transforms\n",
    "from torch.utils.data import DataLoader\n",
    "import tensorflow as tf\n",
    "import tensorboard as tb\n",
    "import visual_tools as vt\n",
    "import utils\n",
    "import matplotlib.pyplot as plt\n",
    "import numpy as np\n",
    "import time"
   ]
  },
  {
   "cell_type": "code",
   "execution_count": 3,
   "metadata": {
    "id": "TmFeC-YFlSjK"
   },
   "outputs": [],
   "source": [
    "def loaders():\n",
    "    traintransform = transforms.Compose([transforms.ToTensor(),\n",
    "                                         transforms.Resize(128),\n",
    "                                        transforms.RandomHorizontalFlip(),\n",
    "                                        transforms.Normalize((0.5, 0.5, 0.5), (0.5, 0.5, 0.5))])\n",
    "\n",
    "    testtransform = transforms.Compose([transforms.ToTensor(),\n",
    "                                        transforms.Resize(128),\n",
    "                                        transforms.Normalize((0.5, 0.5, 0.5), (0.5, 0.5, 0.5))])\n",
    "\n",
    "    batch_size = 32\n",
    "    num_workers = 2\n",
    "\n",
    "    trainset = datasets.CIFAR10(\"/data/cifar10/train\", train=True, transform=traintransform, download=True)\n",
    "    trainloader = DataLoader(trainset, batch_size=batch_size, shuffle=True, num_workers=num_workers)\n",
    "\n",
    "    testset = datasets.CIFAR10(\"/data/cifar10/test\", train=False, transform=testtransform, download=True)\n",
    "    testloader = DataLoader(testset, batch_size=batch_size, shuffle=True, num_workers=num_workers)\n",
    "    return trainloader, testloader"
   ]
  },
  {
   "cell_type": "code",
   "execution_count": 4,
   "metadata": {
    "colab": {
     "base_uri": "https://localhost:8080/",
     "height": 901,
     "referenced_widgets": [
      "9d685fbef62e409490e830290b630c15",
      "0cbeeec16000486f853fa29ff16d6813",
      "990799093803409881c99b31185443fe",
      "607f17b385f946c59b4c51c959cbe8cf",
      "36786b2f7d5944dfb48426e77b0d2f00",
      "821a9c08ce3840078f9216064cbdcce0",
      "e9afd0aba87941048f758e1c5b9069cd",
      "82f8a7a1caa4455b9cc6c3831b98cd5c",
      "f5b2479f125a463eb3095b477c41cf50",
      "2c7850fa0e004717bbf1699b74549d65",
      "362d4fcfa7504825b2231819e51e3d2c",
      "5a657c88ee154e99b6bf71975ffe80f7",
      "ec86b731267542b0ace0aed6d70b3d8d",
      "106b5a5c45ff478986d8ecea4a5a9866",
      "4a62b86b78344f77ad3e4b9b0ab43c8f",
      "1a77403c86d84d638096e0d3fe54781d"
     ]
    },
    "id": "7U8IG91NnnqG",
    "outputId": "53b09701-e0c0-4b48-a277-b02c1403a364"
   },
   "outputs": [
    {
     "name": "stdout",
     "output_type": "stream",
     "text": [
      "Downloading https://www.cs.toronto.edu/~kriz/cifar-10-python.tar.gz to /data/cifar10/train/cifar-10-python.tar.gz\n"
     ]
    },
    {
     "data": {
      "application/vnd.jupyter.widget-view+json": {
       "model_id": "9d685fbef62e409490e830290b630c15",
       "version_major": 2,
       "version_minor": 0
      },
      "text/plain": [
       "HBox(children=(FloatProgress(value=1.0, bar_style='info', max=1.0), HTML(value='')))"
      ]
     },
     "metadata": {
      "tags": []
     },
     "output_type": "display_data"
    },
    {
     "name": "stdout",
     "output_type": "stream",
     "text": [
      "Extracting /data/cifar10/train/cifar-10-python.tar.gz to /data/cifar10/train\n",
      "Downloading https://www.cs.toronto.edu/~kriz/cifar-10-python.tar.gz to /data/cifar10/test/cifar-10-python.tar.gz\n"
     ]
    },
    {
     "data": {
      "application/vnd.jupyter.widget-view+json": {
       "model_id": "f5b2479f125a463eb3095b477c41cf50",
       "version_major": 2,
       "version_minor": 0
      },
      "text/plain": [
       "HBox(children=(FloatProgress(value=1.0, bar_style='info', max=1.0), HTML(value='')))"
      ]
     },
     "metadata": {
      "tags": []
     },
     "output_type": "display_data"
    },
    {
     "name": "stdout",
     "output_type": "stream",
     "text": [
      "Extracting /data/cifar10/test/cifar-10-python.tar.gz to /data/cifar10/test\n",
      "\n",
      "\n"
     ]
    },
    {
     "name": "stderr",
     "output_type": "stream",
     "text": [
      "Clipping input data to the valid range for imshow with RGB data ([0..1] for floats or [0..255] for integers).\n"
     ]
    },
    {
     "name": "stdout",
     "output_type": "stream",
     "text": [
      "\n"
     ]
    },
    {
     "data": {
      "image/png": "[encoded data removed]",
      "text/plain": [
       "<Figure size 864x864 with 1 Axes>"
      ]
     },
     "metadata": {
      "needs_background": "light",
      "tags": []
     },
     "output_type": "display_data"
    }
   ],
   "source": [
    "trainloader, _ = loaders()\n",
    "images, labels = next(iter(trainloader))\n",
    "vt.show_image(images[0])"
   ]
  },
  {
   "cell_type": "code",
   "execution_count": 12,
   "metadata": {
    "id": "YsSJSx-k2-SK"
   },
   "outputs": [],
   "source": [
    "def train(model, \n",
    "          loaders, \n",
    "          optimizer=None,\n",
    "          criterion=nn.CrossEntropyLoss(), \n",
    "          epochs=5, \n",
    "          reload_=False):\n",
    "        import time\n",
    "        device = torch.device(\"cuda\" if torch.cuda.is_available() else \"cpu\")\n",
    "        model.to(device)\n",
    "        \n",
    "        if optimizer == None:\n",
    "            optimizer = optim.Adam(params=model.parameters(), lr=0.001)\n",
    "        trainloader, testloader = loaders()\n",
    "    \n",
    "        print(\"Training on: \", device)\n",
    "        train_losses = []\n",
    "        test_losses = []\n",
    "        accuracies = []\n",
    "        start_time = time.time()\n",
    "\n",
    "        for epoch in range(epochs):\n",
    "            \n",
    "            print(f\"New epoch: {epoch}\")\n",
    "            # training\n",
    "            trainloss = []\n",
    "            for images, labels in trainloader:\n",
    "                images, labels = images.to(device), labels.to(device)\n",
    "                optimizer.zero_grad()\n",
    "                out = model(images)\n",
    "                loss = criterion(out, labels)\n",
    "                loss.backward()\n",
    "                optimizer.step()\n",
    "                trainloss.append(loss.item())\n",
    "            trainloss = np.mean(trainloss)\n",
    "            train_losses.append(trainloss)\n",
    "            print(f\"Training loss: {round(trainloss, 3)}\")\n",
    "\n",
    "            \n",
    "            \n",
    "\n",
    "            # validation\n",
    "            testloss = []\n",
    "            for images, labels in testloader:\n",
    "\n",
    "                images, labels = images.to(device), labels.to(device)\n",
    "                with torch.no_grad():\n",
    "                    out = model(images)\n",
    "                    loss = criterion(out, labels)\n",
    "                    testloss.append(loss.item())\n",
    "            testloss = np.mean(testloss)\n",
    "\n",
    "            test_losses.append(testloss)\n",
    "            print(f\"Validation loss: {round(testloss, 3)}\")\n",
    "    \n",
    "            # final accuracy\n",
    "            \n",
    "            accuracy = []\n",
    "            for images, labels in testloader:\n",
    "                images, labels = images.to(device), labels.to(device)\n",
    "                with torch.no_grad():\n",
    "                    out = model(images)\n",
    "                    topv, topi = torch.topk(out, 1, dim=1)\n",
    "                    labels.resize_(*topi.shape)\n",
    "                    eq = topi == labels\n",
    "                    acc = torch.mean(eq.type(torch.FloatTensor))\n",
    "                    accuracy.append(acc.item())\n",
    "            accuracy = np.mean(accuracy)\n",
    "            accuracies.append(accuracy)\n",
    "            print(f\"The accuracy is: {round(accuracy * 100, 1)}%\")\n",
    "            if reload_:\n",
    "                trainloader, testloader = loaders()\n",
    "\n",
    "\n",
    "            \n",
    "    \n",
    "            \n",
    "    \n",
    "        end_time = time.time()\n",
    "        time = end_time - start_time\n",
    "        print(time)\n",
    "        return(time, train_losses, test_losses, accuracies)\n",
    "  "
   ]
  },
  {
   "cell_type": "code",
   "execution_count": 23,
   "metadata": {
    "colab": {
     "base_uri": "https://localhost:8080/"
    },
    "id": "GJB8dxftSBMg",
    "outputId": "ff172093-e9a2-430c-e045-5c042b2078ea"
   },
   "outputs": [
    {
     "data": {
      "text/plain": [
       "torch.Size([32, 192, 3, 10])"
      ]
     },
     "execution_count": 23,
     "metadata": {
      "tags": []
     },
     "output_type": "execute_result"
    }
   ],
   "source": [
    "encoder1 = nn.Sequential(nn.Conv2d(3,64, kernel_size=4, stride = 2, padding = 1,),\n",
    "                        nn.ReLU(),\n",
    "                        nn.MaxPool2d(kernel_size = 4, stride = 2),\n",
    "                        nn.Conv2d(64,192, kernel_size=4, stride = 2, padding = 1,),\n",
    "                        nn.ReLU(),\n",
    "                        nn.MaxPool2d(kernel_size = 4, stride = 2),\n",
    "                        nn.Conv2d(192,192, kernel_size=4, stride = 2, padding = 1,),\n",
    "                        nn.ReLU(),\n",
    "                        nn.Flatten()) # om er een vector van te maken ipv c * width * height\n",
    "input_shape = encoder1(images).shape[1] # ik test het meestal gewoon even door te kijken wat eruit komt\n",
    "classifier1 = nn.Sequential(nn.Linear(input_shape, 10),\n",
    "                            nn.ReLU())\n",
    "\n",
    "model1 = nn.Sequential(encoder1, classifier1)\n",
    "model1(images).shape"
   ]
  },
  {
   "cell_type": "code",
   "execution_count": 9,
   "metadata": {
    "colab": {
     "base_uri": "https://localhost:8080/"
    },
    "id": "zz_gJIp-3l2l",
    "outputId": "94234de4-476a-406b-835b-79119cfcc5c3"
   },
   "outputs": [
    {
     "name": "stdout",
     "output_type": "stream",
     "text": [
      "Files already downloaded and verified\n",
      "Files already downloaded and verified\n",
      "Training on:  cuda\n",
      "New epoch: 0\n",
      "Training loss: 1.492\n",
      "Validation loss: 1.221\n",
      "The accuracy is: 55.3%\n",
      "Files already downloaded and verified\n",
      "Files already downloaded and verified\n",
      "New epoch: 1\n",
      "Training loss: 1.12\n",
      "Validation loss: 1.062\n",
      "The accuracy is: 62.5%\n",
      "Files already downloaded and verified\n",
      "Files already downloaded and verified\n",
      "New epoch: 2\n",
      "Training loss: 0.923\n",
      "Validation loss: 0.931\n",
      "The accuracy is: 67.1%\n",
      "Files already downloaded and verified\n",
      "Files already downloaded and verified\n",
      "New epoch: 3\n",
      "Training loss: 0.806\n",
      "Validation loss: 0.945\n",
      "The accuracy is: 67.4%\n",
      "Files already downloaded and verified\n",
      "Files already downloaded and verified\n",
      "New epoch: 4\n",
      "Training loss: 0.714\n",
      "Validation loss: 0.881\n",
      "The accuracy is: 69.1%\n",
      "Files already downloaded and verified\n",
      "Files already downloaded and verified\n",
      "New epoch: 5\n",
      "Training loss: 0.638\n",
      "Validation loss: 0.896\n",
      "The accuracy is: 69.9%\n",
      "Files already downloaded and verified\n",
      "Files already downloaded and verified\n",
      "New epoch: 6\n",
      "Training loss: 0.576\n",
      "Validation loss: 0.875\n",
      "The accuracy is: 70.9%\n",
      "Files already downloaded and verified\n",
      "Files already downloaded and verified\n",
      "New epoch: 7\n",
      "Training loss: 0.516\n",
      "Validation loss: 0.912\n",
      "The accuracy is: 70.5%\n",
      "Files already downloaded and verified\n",
      "Files already downloaded and verified\n",
      "New epoch: 8\n",
      "Training loss: 0.464\n",
      "Validation loss: 0.905\n",
      "The accuracy is: 70.3%\n",
      "Files already downloaded and verified\n",
      "Files already downloaded and verified\n",
      "New epoch: 9\n",
      "Training loss: 0.424\n",
      "Validation loss: 1.016\n",
      "The accuracy is: 69.1%\n",
      "Files already downloaded and verified\n",
      "Files already downloaded and verified\n",
      "814.1888461112976\n"
     ]
    }
   ],
   "source": [
    "time1, train_losses1, test_losses1, accuracies1 = train(model=model1,\n",
    "               loaders=loaders,\n",
    "               optimizer=optim.Adam(params=model1.parameters(), lr=0.001),\n",
    "               criterion=nn.CrossEntropyLoss(), reload_=True,\n",
    "               epochs=10)"
   ]
  }
 ],
 "metadata": {
  "accelerator": "GPU",
  "colab": {
   "collapsed_sections": [],
   "include_colab_link": true,
   "name": "CifarModel2.ipynb",
   "provenance": []
  },
  "kernelspec": {
   "display_name": "Python 3",
   "language": "python",
   "name": "python3"
  },
  "language_info": {
   "codemirror_mode": {
    "name": "ipython",
    "version": 3
   },
   "file_extension": ".py",
   "mimetype": "text/x-python",
   "name": "python",
   "nbconvert_exporter": "python",
   "pygments_lexer": "ipython3",
   "version": "3.8.5"
  },
  "widgets": {
   "application/vnd.jupyter.widget-state+json": {
    "0cbeeec16000486f853fa29ff16d6813": {
     "model_module": "@jupyter-widgets/base",
     "model_name": "LayoutModel",
     "state": {
      "_model_module": "@jupyter-widgets/base",
      "_model_module_version": "1.2.0",
      "_model_name": "LayoutModel",
      "_view_count": null,
      "_view_module": "@jupyter-widgets/base",
      "_view_module_version": "1.2.0",
      "_view_name": "LayoutView",
      "align_content": null,
      "align_items": null,
      "align_self": null,
      "border": null,
      "bottom": null,
      "display": null,
      "flex": null,
      "flex_flow": null,
      "grid_area": null,
      "grid_auto_columns": null,
      "grid_auto_flow": null,
      "grid_auto_rows": null,
      "grid_column": null,
      "grid_gap": null,
      "grid_row": null,
      "grid_template_areas": null,
      "grid_template_columns": null,
      "grid_template_rows": null,
      "height": null,
      "justify_content": null,
      "justify_items": null,
      "left": null,
      "margin": null,
      "max_height": null,
      "max_width": null,
      "min_height": null,
      "min_width": null,
      "object_fit": null,
      "object_position": null,
      "order": null,
      "overflow": null,
      "overflow_x": null,
      "overflow_y": null,
      "padding": null,
      "right": null,
      "top": null,
      "visibility": null,
      "width": null
     }
    },
    "106b5a5c45ff478986d8ecea4a5a9866": {
     "model_module": "@jupyter-widgets/base",
     "model_name": "LayoutModel",
     "state": {
      "_model_module": "@jupyter-widgets/base",
      "_model_module_version": "1.2.0",
      "_model_name": "LayoutModel",
      "_view_count": null,
      "_view_module": "@jupyter-widgets/base",
      "_view_module_version": "1.2.0",
      "_view_name": "LayoutView",
      "align_content": null,
      "align_items": null,
      "align_self": null,
      "border": null,
      "bottom": null,
      "display": null,
      "flex": null,
      "flex_flow": null,
      "grid_area": null,
      "grid_auto_columns": null,
      "grid_auto_flow": null,
      "grid_auto_rows": null,
      "grid_column": null,
      "grid_gap": null,
      "grid_row": null,
      "grid_template_areas": null,
      "grid_template_columns": null,
      "grid_template_rows": null,
      "height": null,
      "justify_content": null,
      "justify_items": null,
      "left": null,
      "margin": null,
      "max_height": null,
      "max_width": null,
      "min_height": null,
      "min_width": null,
      "object_fit": null,
      "object_position": null,
      "order": null,
      "overflow": null,
      "overflow_x": null,
      "overflow_y": null,
      "padding": null,
      "right": null,
      "top": null,
      "visibility": null,
      "width": null
     }
    },
    "1a77403c86d84d638096e0d3fe54781d": {
     "model_module": "@jupyter-widgets/base",
     "model_name": "LayoutModel",
     "state": {
      "_model_module": "@jupyter-widgets/base",
      "_model_module_version": "1.2.0",
      "_model_name": "LayoutModel",
      "_view_count": null,
      "_view_module": "@jupyter-widgets/base",
      "_view_module_version": "1.2.0",
      "_view_name": "LayoutView",
      "align_content": null,
      "align_items": null,
      "align_self": null,
      "border": null,
      "bottom": null,
      "display": null,
      "flex": null,
      "flex_flow": null,
      "grid_area": null,
      "grid_auto_columns": null,
      "grid_auto_flow": null,
      "grid_auto_rows": null,
      "grid_column": null,
      "grid_gap": null,
      "grid_row": null,
      "grid_template_areas": null,
      "grid_template_columns": null,
      "grid_template_rows": null,
      "height": null,
      "justify_content": null,
      "justify_items": null,
      "left": null,
      "margin": null,
      "max_height": null,
      "max_width": null,
      "min_height": null,
      "min_width": null,
      "object_fit": null,
      "object_position": null,
      "order": null,
      "overflow": null,
      "overflow_x": null,
      "overflow_y": null,
      "padding": null,
      "right": null,
      "top": null,
      "visibility": null,
      "width": null
     }
    },
    "2c7850fa0e004717bbf1699b74549d65": {
     "model_module": "@jupyter-widgets/base",
     "model_name": "LayoutModel",
     "state": {
      "_model_module": "@jupyter-widgets/base",
      "_model_module_version": "1.2.0",
      "_model_name": "LayoutModel",
      "_view_count": null,
      "_view_module": "@jupyter-widgets/base",
      "_view_module_version": "1.2.0",
      "_view_name": "LayoutView",
      "align_content": null,
      "align_items": null,
      "align_self": null,
      "border": null,
      "bottom": null,
      "display": null,
      "flex": null,
      "flex_flow": null,
      "grid_area": null,
      "grid_auto_columns": null,
      "grid_auto_flow": null,
      "grid_auto_rows": null,
      "grid_column": null,
      "grid_gap": null,
      "grid_row": null,
      "grid_template_areas": null,
      "grid_template_columns": null,
      "grid_template_rows": null,
      "height": null,
      "justify_content": null,
      "justify_items": null,
      "left": null,
      "margin": null,
      "max_height": null,
      "max_width": null,
      "min_height": null,
      "min_width": null,
      "object_fit": null,
      "object_position": null,
      "order": null,
      "overflow": null,
      "overflow_x": null,
      "overflow_y": null,
      "padding": null,
      "right": null,
      "top": null,
      "visibility": null,
      "width": null
     }
    },
    "362d4fcfa7504825b2231819e51e3d2c": {
     "model_module": "@jupyter-widgets/controls",
     "model_name": "FloatProgressModel",
     "state": {
      "_dom_classes": [],
      "_model_module": "@jupyter-widgets/controls",
      "_model_module_version": "1.5.0",
      "_model_name": "FloatProgressModel",
      "_view_count": null,
      "_view_module": "@jupyter-widgets/controls",
      "_view_module_version": "1.5.0",
      "_view_name": "ProgressView",
      "bar_style": "success",
      "description": "",
      "description_tooltip": null,
      "layout": "IPY_MODEL_106b5a5c45ff478986d8ecea4a5a9866",
      "max": 1,
      "min": 0,
      "orientation": "horizontal",
      "style": "IPY_MODEL_ec86b731267542b0ace0aed6d70b3d8d",
      "value": 1
     }
    },
    "36786b2f7d5944dfb48426e77b0d2f00": {
     "model_module": "@jupyter-widgets/controls",
     "model_name": "ProgressStyleModel",
     "state": {
      "_model_module": "@jupyter-widgets/controls",
      "_model_module_version": "1.5.0",
      "_model_name": "ProgressStyleModel",
      "_view_count": null,
      "_view_module": "@jupyter-widgets/base",
      "_view_module_version": "1.2.0",
      "_view_name": "StyleView",
      "bar_color": null,
      "description_width": "initial"
     }
    },
    "4a62b86b78344f77ad3e4b9b0ab43c8f": {
     "model_module": "@jupyter-widgets/controls",
     "model_name": "DescriptionStyleModel",
     "state": {
      "_model_module": "@jupyter-widgets/controls",
      "_model_module_version": "1.5.0",
      "_model_name": "DescriptionStyleModel",
      "_view_count": null,
      "_view_module": "@jupyter-widgets/base",
      "_view_module_version": "1.2.0",
      "_view_name": "StyleView",
      "description_width": ""
     }
    },
    "5a657c88ee154e99b6bf71975ffe80f7": {
     "model_module": "@jupyter-widgets/controls",
     "model_name": "HTMLModel",
     "state": {
      "_dom_classes": [],
      "_model_module": "@jupyter-widgets/controls",
      "_model_module_version": "1.5.0",
      "_model_name": "HTMLModel",
      "_view_count": null,
      "_view_module": "@jupyter-widgets/controls",
      "_view_module_version": "1.5.0",
      "_view_name": "HTMLView",
      "description": "",
      "description_tooltip": null,
      "layout": "IPY_MODEL_1a77403c86d84d638096e0d3fe54781d",
      "placeholder": "​",
      "style": "IPY_MODEL_4a62b86b78344f77ad3e4b9b0ab43c8f",
      "value": " 170500096/? [00:05&lt;00:00, 33676249.49it/s]"
     }
    },
    "607f17b385f946c59b4c51c959cbe8cf": {
     "model_module": "@jupyter-widgets/controls",
     "model_name": "HTMLModel",
     "state": {
      "_dom_classes": [],
      "_model_module": "@jupyter-widgets/controls",
      "_model_module_version": "1.5.0",
      "_model_name": "HTMLModel",
      "_view_count": null,
      "_view_module": "@jupyter-widgets/controls",
      "_view_module_version": "1.5.0",
      "_view_name": "HTMLView",
      "description": "",
      "description_tooltip": null,
      "layout": "IPY_MODEL_82f8a7a1caa4455b9cc6c3831b98cd5c",
      "placeholder": "​",
      "style": "IPY_MODEL_e9afd0aba87941048f758e1c5b9069cd",
      "value": " 170500096/? [00:20&lt;00:00, 90174984.85it/s]"
     }
    },
    "821a9c08ce3840078f9216064cbdcce0": {
     "model_module": "@jupyter-widgets/base",
     "model_name": "LayoutModel",
     "state": {
      "_model_module": "@jupyter-widgets/base",
      "_model_module_version": "1.2.0",
      "_model_name": "LayoutModel",
      "_view_count": null,
      "_view_module": "@jupyter-widgets/base",
      "_view_module_version": "1.2.0",
      "_view_name": "LayoutView",
      "align_content": null,
      "align_items": null,
      "align_self": null,
      "border": null,
      "bottom": null,
      "display": null,
      "flex": null,
      "flex_flow": null,
      "grid_area": null,
      "grid_auto_columns": null,
      "grid_auto_flow": null,
      "grid_auto_rows": null,
      "grid_column": null,
      "grid_gap": null,
      "grid_row": null,
      "grid_template_areas": null,
      "grid_template_columns": null,
      "grid_template_rows": null,
      "height": null,
      "justify_content": null,
      "justify_items": null,
      "left": null,
      "margin": null,
      "max_height": null,
      "max_width": null,
      "min_height": null,
      "min_width": null,
      "object_fit": null,
      "object_position": null,
      "order": null,
      "overflow": null,
      "overflow_x": null,
      "overflow_y": null,
      "padding": null,
      "right": null,
      "top": null,
      "visibility": null,
      "width": null
     }
    },
    "82f8a7a1caa4455b9cc6c3831b98cd5c": {
     "model_module": "@jupyter-widgets/base",
     "model_name": "LayoutModel",
     "state": {
      "_model_module": "@jupyter-widgets/base",
      "_model_module_version": "1.2.0",
      "_model_name": "LayoutModel",
      "_view_count": null,
      "_view_module": "@jupyter-widgets/base",
      "_view_module_version": "1.2.0",
      "_view_name": "LayoutView",
      "align_content": null,
      "align_items": null,
      "align_self": null,
      "border": null,
      "bottom": null,
      "display": null,
      "flex": null,
      "flex_flow": null,
      "grid_area": null,
      "grid_auto_columns": null,
      "grid_auto_flow": null,
      "grid_auto_rows": null,
      "grid_column": null,
      "grid_gap": null,
      "grid_row": null,
      "grid_template_areas": null,
      "grid_template_columns": null,
      "grid_template_rows": null,
      "height": null,
      "justify_content": null,
      "justify_items": null,
      "left": null,
      "margin": null,
      "max_height": null,
      "max_width": null,
      "min_height": null,
      "min_width": null,
      "object_fit": null,
      "object_position": null,
      "order": null,
      "overflow": null,
      "overflow_x": null,
      "overflow_y": null,
      "padding": null,
      "right": null,
      "top": null,
      "visibility": null,
      "width": null
     }
    },
    "990799093803409881c99b31185443fe": {
     "model_module": "@jupyter-widgets/controls",
     "model_name": "FloatProgressModel",
     "state": {
      "_dom_classes": [],
      "_model_module": "@jupyter-widgets/controls",
      "_model_module_version": "1.5.0",
      "_model_name": "FloatProgressModel",
      "_view_count": null,
      "_view_module": "@jupyter-widgets/controls",
      "_view_module_version": "1.5.0",
      "_view_name": "ProgressView",
      "bar_style": "info",
      "description": "",
      "description_tooltip": null,
      "layout": "IPY_MODEL_821a9c08ce3840078f9216064cbdcce0",
      "max": 1,
      "min": 0,
      "orientation": "horizontal",
      "style": "IPY_MODEL_36786b2f7d5944dfb48426e77b0d2f00",
      "value": 1
     }
    },
    "9d685fbef62e409490e830290b630c15": {
     "model_module": "@jupyter-widgets/controls",
     "model_name": "HBoxModel",
     "state": {
      "_dom_classes": [],
      "_model_module": "@jupyter-widgets/controls",
      "_model_module_version": "1.5.0",
      "_model_name": "HBoxModel",
      "_view_count": null,
      "_view_module": "@jupyter-widgets/controls",
      "_view_module_version": "1.5.0",
      "_view_name": "HBoxView",
      "box_style": "",
      "children": [
       "IPY_MODEL_990799093803409881c99b31185443fe",
       "IPY_MODEL_607f17b385f946c59b4c51c959cbe8cf"
      ],
      "layout": "IPY_MODEL_0cbeeec16000486f853fa29ff16d6813"
     }
    },
    "e9afd0aba87941048f758e1c5b9069cd": {
     "model_module": "@jupyter-widgets/controls",
     "model_name": "DescriptionStyleModel",
     "state": {
      "_model_module": "@jupyter-widgets/controls",
      "_model_module_version": "1.5.0",
      "_model_name": "DescriptionStyleModel",
      "_view_count": null,
      "_view_module": "@jupyter-widgets/base",
      "_view_module_version": "1.2.0",
      "_view_name": "StyleView",
      "description_width": ""
     }
    },
    "ec86b731267542b0ace0aed6d70b3d8d": {
     "model_module": "@jupyter-widgets/controls",
     "model_name": "ProgressStyleModel",
     "state": {
      "_model_module": "@jupyter-widgets/controls",
      "_model_module_version": "1.5.0",
      "_model_name": "ProgressStyleModel",
      "_view_count": null,
      "_view_module": "@jupyter-widgets/base",
      "_view_module_version": "1.2.0",
      "_view_name": "StyleView",
      "bar_color": null,
      "description_width": "initial"
     }
    },
    "f5b2479f125a463eb3095b477c41cf50": {
     "model_module": "@jupyter-widgets/controls",
     "model_name": "HBoxModel",
     "state": {
      "_dom_classes": [],
      "_model_module": "@jupyter-widgets/controls",
      "_model_module_version": "1.5.0",
      "_model_name": "HBoxModel",
      "_view_count": null,
      "_view_module": "@jupyter-widgets/controls",
      "_view_module_version": "1.5.0",
      "_view_name": "HBoxView",
      "box_style": "",
      "children": [
       "IPY_MODEL_362d4fcfa7504825b2231819e51e3d2c",
       "IPY_MODEL_5a657c88ee154e99b6bf71975ffe80f7"
      ],
      "layout": "IPY_MODEL_2c7850fa0e004717bbf1699b74549d65"
     }
    }
   }
  }
 },
 "nbformat": 4,
 "nbformat_minor": 1
}
