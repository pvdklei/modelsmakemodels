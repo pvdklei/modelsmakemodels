{
  "nbformat": 4,
  "nbformat_minor": 0,
  "metadata": {
    "colab": {
      "name": "Untitled1.ipynb",
      "provenance": [],
      "collapsed_sections": [],
      "include_colab_link": true
    },
    "kernelspec": {
      "name": "python3",
      "display_name": "Python 3"
    },
    "accelerator": "GPU",
    "widgets": {
      "application/vnd.jupyter.widget-state+json": {
        "e19cf9e861d14b16bec976bf87ac1eb4": {
          "model_module": "@jupyter-widgets/controls",
          "model_name": "HBoxModel",
          "state": {
            "_view_name": "HBoxView",
            "_dom_classes": [],
            "_model_name": "HBoxModel",
            "_view_module": "@jupyter-widgets/controls",
            "_model_module_version": "1.5.0",
            "_view_count": null,
            "_view_module_version": "1.5.0",
            "box_style": "",
            "layout": "IPY_MODEL_3bbbc8fa2cc3476e8afeba1b726e5541",
            "_model_module": "@jupyter-widgets/controls",
            "children": [
              "IPY_MODEL_6dd163bc68ba44d0987cbe6b2992290d",
              "IPY_MODEL_ffb57ceaaf5f4de0a3324adeef105ddc"
            ]
          }
        },
        "3bbbc8fa2cc3476e8afeba1b726e5541": {
          "model_module": "@jupyter-widgets/base",
          "model_name": "LayoutModel",
          "state": {
            "_view_name": "LayoutView",
            "grid_template_rows": null,
            "right": null,
            "justify_content": null,
            "_view_module": "@jupyter-widgets/base",
            "overflow": null,
            "_model_module_version": "1.2.0",
            "_view_count": null,
            "flex_flow": null,
            "width": null,
            "min_width": null,
            "border": null,
            "align_items": null,
            "bottom": null,
            "_model_module": "@jupyter-widgets/base",
            "top": null,
            "grid_column": null,
            "overflow_y": null,
            "overflow_x": null,
            "grid_auto_flow": null,
            "grid_area": null,
            "grid_template_columns": null,
            "flex": null,
            "_model_name": "LayoutModel",
            "justify_items": null,
            "grid_row": null,
            "max_height": null,
            "align_content": null,
            "visibility": null,
            "align_self": null,
            "height": null,
            "min_height": null,
            "padding": null,
            "grid_auto_rows": null,
            "grid_gap": null,
            "max_width": null,
            "order": null,
            "_view_module_version": "1.2.0",
            "grid_template_areas": null,
            "object_position": null,
            "object_fit": null,
            "grid_auto_columns": null,
            "margin": null,
            "display": null,
            "left": null
          }
        },
        "6dd163bc68ba44d0987cbe6b2992290d": {
          "model_module": "@jupyter-widgets/controls",
          "model_name": "FloatProgressModel",
          "state": {
            "_view_name": "ProgressView",
            "style": "IPY_MODEL_8c93d44b403942698218b179fb7ffbaa",
            "_dom_classes": [],
            "description": "",
            "_model_name": "FloatProgressModel",
            "bar_style": "info",
            "max": 1,
            "_view_module": "@jupyter-widgets/controls",
            "_model_module_version": "1.5.0",
            "value": 1,
            "_view_count": null,
            "_view_module_version": "1.5.0",
            "orientation": "horizontal",
            "min": 0,
            "description_tooltip": null,
            "_model_module": "@jupyter-widgets/controls",
            "layout": "IPY_MODEL_7d56d95a16ca48f7af057fafeb6ddf82"
          }
        },
        "ffb57ceaaf5f4de0a3324adeef105ddc": {
          "model_module": "@jupyter-widgets/controls",
          "model_name": "HTMLModel",
          "state": {
            "_view_name": "HTMLView",
            "style": "IPY_MODEL_2fb3d8a3fab3484d82407203916bf9a8",
            "_dom_classes": [],
            "description": "",
            "_model_name": "HTMLModel",
            "placeholder": "​",
            "_view_module": "@jupyter-widgets/controls",
            "_model_module_version": "1.5.0",
            "value": " 170500096/? [00:20&lt;00:00, 64314541.96it/s]",
            "_view_count": null,
            "_view_module_version": "1.5.0",
            "description_tooltip": null,
            "_model_module": "@jupyter-widgets/controls",
            "layout": "IPY_MODEL_2c72702ba83941379b098f4b938a15e4"
          }
        },
        "8c93d44b403942698218b179fb7ffbaa": {
          "model_module": "@jupyter-widgets/controls",
          "model_name": "ProgressStyleModel",
          "state": {
            "_view_name": "StyleView",
            "_model_name": "ProgressStyleModel",
            "description_width": "initial",
            "_view_module": "@jupyter-widgets/base",
            "_model_module_version": "1.5.0",
            "_view_count": null,
            "_view_module_version": "1.2.0",
            "bar_color": null,
            "_model_module": "@jupyter-widgets/controls"
          }
        },
        "7d56d95a16ca48f7af057fafeb6ddf82": {
          "model_module": "@jupyter-widgets/base",
          "model_name": "LayoutModel",
          "state": {
            "_view_name": "LayoutView",
            "grid_template_rows": null,
            "right": null,
            "justify_content": null,
            "_view_module": "@jupyter-widgets/base",
            "overflow": null,
            "_model_module_version": "1.2.0",
            "_view_count": null,
            "flex_flow": null,
            "width": null,
            "min_width": null,
            "border": null,
            "align_items": null,
            "bottom": null,
            "_model_module": "@jupyter-widgets/base",
            "top": null,
            "grid_column": null,
            "overflow_y": null,
            "overflow_x": null,
            "grid_auto_flow": null,
            "grid_area": null,
            "grid_template_columns": null,
            "flex": null,
            "_model_name": "LayoutModel",
            "justify_items": null,
            "grid_row": null,
            "max_height": null,
            "align_content": null,
            "visibility": null,
            "align_self": null,
            "height": null,
            "min_height": null,
            "padding": null,
            "grid_auto_rows": null,
            "grid_gap": null,
            "max_width": null,
            "order": null,
            "_view_module_version": "1.2.0",
            "grid_template_areas": null,
            "object_position": null,
            "object_fit": null,
            "grid_auto_columns": null,
            "margin": null,
            "display": null,
            "left": null
          }
        },
        "2fb3d8a3fab3484d82407203916bf9a8": {
          "model_module": "@jupyter-widgets/controls",
          "model_name": "DescriptionStyleModel",
          "state": {
            "_view_name": "StyleView",
            "_model_name": "DescriptionStyleModel",
            "description_width": "",
            "_view_module": "@jupyter-widgets/base",
            "_model_module_version": "1.5.0",
            "_view_count": null,
            "_view_module_version": "1.2.0",
            "_model_module": "@jupyter-widgets/controls"
          }
        },
        "2c72702ba83941379b098f4b938a15e4": {
          "model_module": "@jupyter-widgets/base",
          "model_name": "LayoutModel",
          "state": {
            "_view_name": "LayoutView",
            "grid_template_rows": null,
            "right": null,
            "justify_content": null,
            "_view_module": "@jupyter-widgets/base",
            "overflow": null,
            "_model_module_version": "1.2.0",
            "_view_count": null,
            "flex_flow": null,
            "width": null,
            "min_width": null,
            "border": null,
            "align_items": null,
            "bottom": null,
            "_model_module": "@jupyter-widgets/base",
            "top": null,
            "grid_column": null,
            "overflow_y": null,
            "overflow_x": null,
            "grid_auto_flow": null,
            "grid_area": null,
            "grid_template_columns": null,
            "flex": null,
            "_model_name": "LayoutModel",
            "justify_items": null,
            "grid_row": null,
            "max_height": null,
            "align_content": null,
            "visibility": null,
            "align_self": null,
            "height": null,
            "min_height": null,
            "padding": null,
            "grid_auto_rows": null,
            "grid_gap": null,
            "max_width": null,
            "order": null,
            "_view_module_version": "1.2.0",
            "grid_template_areas": null,
            "object_position": null,
            "object_fit": null,
            "grid_auto_columns": null,
            "margin": null,
            "display": null,
            "left": null
          }
        },
        "0d439fb0151143f293bd69cc435e4fc3": {
          "model_module": "@jupyter-widgets/controls",
          "model_name": "HBoxModel",
          "state": {
            "_view_name": "HBoxView",
            "_dom_classes": [],
            "_model_name": "HBoxModel",
            "_view_module": "@jupyter-widgets/controls",
            "_model_module_version": "1.5.0",
            "_view_count": null,
            "_view_module_version": "1.5.0",
            "box_style": "",
            "layout": "IPY_MODEL_3ed3c7b3fedc4944bb15578c715c6117",
            "_model_module": "@jupyter-widgets/controls",
            "children": [
              "IPY_MODEL_d98e47e811a44bbaa12fe5834354f59e",
              "IPY_MODEL_aa5b54f64d9a4d54a7b8e9acd2ed7d39"
            ]
          }
        },
        "3ed3c7b3fedc4944bb15578c715c6117": {
          "model_module": "@jupyter-widgets/base",
          "model_name": "LayoutModel",
          "state": {
            "_view_name": "LayoutView",
            "grid_template_rows": null,
            "right": null,
            "justify_content": null,
            "_view_module": "@jupyter-widgets/base",
            "overflow": null,
            "_model_module_version": "1.2.0",
            "_view_count": null,
            "flex_flow": null,
            "width": null,
            "min_width": null,
            "border": null,
            "align_items": null,
            "bottom": null,
            "_model_module": "@jupyter-widgets/base",
            "top": null,
            "grid_column": null,
            "overflow_y": null,
            "overflow_x": null,
            "grid_auto_flow": null,
            "grid_area": null,
            "grid_template_columns": null,
            "flex": null,
            "_model_name": "LayoutModel",
            "justify_items": null,
            "grid_row": null,
            "max_height": null,
            "align_content": null,
            "visibility": null,
            "align_self": null,
            "height": null,
            "min_height": null,
            "padding": null,
            "grid_auto_rows": null,
            "grid_gap": null,
            "max_width": null,
            "order": null,
            "_view_module_version": "1.2.0",
            "grid_template_areas": null,
            "object_position": null,
            "object_fit": null,
            "grid_auto_columns": null,
            "margin": null,
            "display": null,
            "left": null
          }
        },
        "d98e47e811a44bbaa12fe5834354f59e": {
          "model_module": "@jupyter-widgets/controls",
          "model_name": "FloatProgressModel",
          "state": {
            "_view_name": "ProgressView",
            "style": "IPY_MODEL_f5953f5442984f02a978b6168dfe6671",
            "_dom_classes": [],
            "description": "",
            "_model_name": "FloatProgressModel",
            "bar_style": "info",
            "max": 1,
            "_view_module": "@jupyter-widgets/controls",
            "_model_module_version": "1.5.0",
            "value": 1,
            "_view_count": null,
            "_view_module_version": "1.5.0",
            "orientation": "horizontal",
            "min": 0,
            "description_tooltip": null,
            "_model_module": "@jupyter-widgets/controls",
            "layout": "IPY_MODEL_f0b10f42403d48b18c58cd2994ffd45e"
          }
        },
        "aa5b54f64d9a4d54a7b8e9acd2ed7d39": {
          "model_module": "@jupyter-widgets/controls",
          "model_name": "HTMLModel",
          "state": {
            "_view_name": "HTMLView",
            "style": "IPY_MODEL_571aabee60da41fa8d5023256efa8af3",
            "_dom_classes": [],
            "description": "",
            "_model_name": "HTMLModel",
            "placeholder": "​",
            "_view_module": "@jupyter-widgets/controls",
            "_model_module_version": "1.5.0",
            "value": " 170500096/? [00:14&lt;00:00, 59251625.21it/s]",
            "_view_count": null,
            "_view_module_version": "1.5.0",
            "description_tooltip": null,
            "_model_module": "@jupyter-widgets/controls",
            "layout": "IPY_MODEL_26aa366cd2104fd28b7a16d0c0e40cf0"
          }
        },
        "f5953f5442984f02a978b6168dfe6671": {
          "model_module": "@jupyter-widgets/controls",
          "model_name": "ProgressStyleModel",
          "state": {
            "_view_name": "StyleView",
            "_model_name": "ProgressStyleModel",
            "description_width": "initial",
            "_view_module": "@jupyter-widgets/base",
            "_model_module_version": "1.5.0",
            "_view_count": null,
            "_view_module_version": "1.2.0",
            "bar_color": null,
            "_model_module": "@jupyter-widgets/controls"
          }
        },
        "f0b10f42403d48b18c58cd2994ffd45e": {
          "model_module": "@jupyter-widgets/base",
          "model_name": "LayoutModel",
          "state": {
            "_view_name": "LayoutView",
            "grid_template_rows": null,
            "right": null,
            "justify_content": null,
            "_view_module": "@jupyter-widgets/base",
            "overflow": null,
            "_model_module_version": "1.2.0",
            "_view_count": null,
            "flex_flow": null,
            "width": null,
            "min_width": null,
            "border": null,
            "align_items": null,
            "bottom": null,
            "_model_module": "@jupyter-widgets/base",
            "top": null,
            "grid_column": null,
            "overflow_y": null,
            "overflow_x": null,
            "grid_auto_flow": null,
            "grid_area": null,
            "grid_template_columns": null,
            "flex": null,
            "_model_name": "LayoutModel",
            "justify_items": null,
            "grid_row": null,
            "max_height": null,
            "align_content": null,
            "visibility": null,
            "align_self": null,
            "height": null,
            "min_height": null,
            "padding": null,
            "grid_auto_rows": null,
            "grid_gap": null,
            "max_width": null,
            "order": null,
            "_view_module_version": "1.2.0",
            "grid_template_areas": null,
            "object_position": null,
            "object_fit": null,
            "grid_auto_columns": null,
            "margin": null,
            "display": null,
            "left": null
          }
        },
        "571aabee60da41fa8d5023256efa8af3": {
          "model_module": "@jupyter-widgets/controls",
          "model_name": "DescriptionStyleModel",
          "state": {
            "_view_name": "StyleView",
            "_model_name": "DescriptionStyleModel",
            "description_width": "",
            "_view_module": "@jupyter-widgets/base",
            "_model_module_version": "1.5.0",
            "_view_count": null,
            "_view_module_version": "1.2.0",
            "_model_module": "@jupyter-widgets/controls"
          }
        },
        "26aa366cd2104fd28b7a16d0c0e40cf0": {
          "model_module": "@jupyter-widgets/base",
          "model_name": "LayoutModel",
          "state": {
            "_view_name": "LayoutView",
            "grid_template_rows": null,
            "right": null,
            "justify_content": null,
            "_view_module": "@jupyter-widgets/base",
            "overflow": null,
            "_model_module_version": "1.2.0",
            "_view_count": null,
            "flex_flow": null,
            "width": null,
            "min_width": null,
            "border": null,
            "align_items": null,
            "bottom": null,
            "_model_module": "@jupyter-widgets/base",
            "top": null,
            "grid_column": null,
            "overflow_y": null,
            "overflow_x": null,
            "grid_auto_flow": null,
            "grid_area": null,
            "grid_template_columns": null,
            "flex": null,
            "_model_name": "LayoutModel",
            "justify_items": null,
            "grid_row": null,
            "max_height": null,
            "align_content": null,
            "visibility": null,
            "align_self": null,
            "height": null,
            "min_height": null,
            "padding": null,
            "grid_auto_rows": null,
            "grid_gap": null,
            "max_width": null,
            "order": null,
            "_view_module_version": "1.2.0",
            "grid_template_areas": null,
            "object_position": null,
            "object_fit": null,
            "grid_auto_columns": null,
            "margin": null,
            "display": null,
            "left": null
          }
        }
      }
    }
  },
  "cells": [
    {
      "cell_type": "markdown",
      "metadata": {
        "id": "view-in-github",
        "colab_type": "text"
      },
      "source": [
        "<a href=\"https://colab.research.google.com/github/pvdklei/modelsmakemodels/blob/master/pepijn/cifar10_model_kernel3_kernel8.ipynb\" target=\"_parent\"><img src=\"https://colab.research.google.com/assets/colab-badge.svg\" alt=\"Open In Colab\"/></a>"
      ]
    },
    {
      "cell_type": "code",
      "metadata": {
        "id": "qnWwYxs2kjqa"
      },
      "source": [
        "import torch\n",
        "from torch import nn, optim\n",
        "import torchvision\n",
        "from torchvision import datasets, transforms\n",
        "from torch.utils.data import DataLoader\n",
        "import torch.nn.functional as F\n",
        "import matplotlib.pyplot as plt\n",
        "import numpy as np\n",
        "from timeit import default_timer as timer"
      ],
      "execution_count": 2,
      "outputs": []
    },
    {
      "cell_type": "code",
      "metadata": {
        "colab": {
          "base_uri": "https://localhost:8080/",
          "height": 148,
          "referenced_widgets": [
            "e19cf9e861d14b16bec976bf87ac1eb4",
            "3bbbc8fa2cc3476e8afeba1b726e5541",
            "6dd163bc68ba44d0987cbe6b2992290d",
            "ffb57ceaaf5f4de0a3324adeef105ddc",
            "8c93d44b403942698218b179fb7ffbaa",
            "7d56d95a16ca48f7af057fafeb6ddf82",
            "2fb3d8a3fab3484d82407203916bf9a8",
            "2c72702ba83941379b098f4b938a15e4",
            "0d439fb0151143f293bd69cc435e4fc3",
            "3ed3c7b3fedc4944bb15578c715c6117",
            "d98e47e811a44bbaa12fe5834354f59e",
            "aa5b54f64d9a4d54a7b8e9acd2ed7d39",
            "f5953f5442984f02a978b6168dfe6671",
            "f0b10f42403d48b18c58cd2994ffd45e",
            "571aabee60da41fa8d5023256efa8af3",
            "26aa366cd2104fd28b7a16d0c0e40cf0"
          ]
        },
        "id": "TmFeC-YFlSjK",
        "outputId": "af08ea81-52b9-4efa-c850-a04ee64632da"
      },
      "source": [
        "traintransform = transforms.Compose([transforms.ToTensor(),\n",
        "                                transforms.Resize(128),\n",
        "                                transforms.Normalize((0.5, 0.5, 0.5), (0.5, 0.5, 0.5))])\n",
        "\n",
        "testtransform = traintransform\n",
        "\n",
        "batch_size = 32\n",
        "num_workers = 2\n",
        "\n",
        "trainset = datasets.CIFAR10(\"/data/cifar10/train\", train=True, transform=traintransform, download=True)\n",
        "trainloader = DataLoader(trainset, batch_size=batch_size, shuffle=True, num_workers=num_workers)\n",
        "\n",
        "testset = datasets.CIFAR10(\"/data/cifar10/test\", train=False, transform=testtransform, download=True)\n",
        "testloader = DataLoader(trainset, batch_size=batch_size, shuffle=True, num_workers=num_workers)\n"
      ],
      "execution_count": 3,
      "outputs": [
        {
          "output_type": "stream",
          "text": [
            "Downloading https://www.cs.toronto.edu/~kriz/cifar-10-python.tar.gz to /data/cifar10/train/cifar-10-python.tar.gz\n"
          ],
          "name": "stdout"
        },
        {
          "output_type": "display_data",
          "data": {
            "application/vnd.jupyter.widget-view+json": {
              "model_id": "e19cf9e861d14b16bec976bf87ac1eb4",
              "version_minor": 0,
              "version_major": 2
            },
            "text/plain": [
              "HBox(children=(FloatProgress(value=1.0, bar_style='info', max=1.0), HTML(value='')))"
            ]
          },
          "metadata": {
            "tags": []
          }
        },
        {
          "output_type": "stream",
          "text": [
            "Extracting /data/cifar10/train/cifar-10-python.tar.gz to /data/cifar10/train\n",
            "Downloading https://www.cs.toronto.edu/~kriz/cifar-10-python.tar.gz to /data/cifar10/test/cifar-10-python.tar.gz\n"
          ],
          "name": "stdout"
        },
        {
          "output_type": "display_data",
          "data": {
            "application/vnd.jupyter.widget-view+json": {
              "model_id": "0d439fb0151143f293bd69cc435e4fc3",
              "version_minor": 0,
              "version_major": 2
            },
            "text/plain": [
              "HBox(children=(FloatProgress(value=1.0, bar_style='info', max=1.0), HTML(value='')))"
            ]
          },
          "metadata": {
            "tags": []
          }
        },
        {
          "output_type": "stream",
          "text": [
            "Extracting /data/cifar10/test/cifar-10-python.tar.gz to /data/cifar10/test\n"
          ],
          "name": "stdout"
        }
      ]
    },
    {
      "cell_type": "code",
      "metadata": {
        "colab": {
          "base_uri": "https://localhost:8080/",
          "height": 236
        },
        "id": "7U8IG91NnnqG",
        "outputId": "428f46f9-f098-423c-9176-7f489bd7d957"
      },
      "source": [
        "def showimage(image):\n",
        "    image = image.numpy()\n",
        "    image = image.transpose((1, 2, 0))\n",
        "    plt.imshow(image)\n",
        "\n",
        "images, labels = next(iter(trainloader))\n",
        "showimage(torchvision.utils.make_grid(images))"
      ],
      "execution_count": 4,
      "outputs": [
        {
          "output_type": "stream",
          "text": [
            "Clipping input data to the valid range for imshow with RGB data ([0..1] for floats or [0..255] for integers).\n"
          ],
          "name": "stderr"
        },
        {
          "output_type": "display_data",
          "data": {
            "image/png": "[encoded data removed]",
            "text/plain": [
              "<Figure size 432x288 with 1 Axes>"
            ]
          },
          "metadata": {
            "tags": [],
            "needs_background": "light"
          }
        }
      ]
    },
    {
      "cell_type": "code",
      "metadata": {
        "colab": {
          "base_uri": "https://localhost:8080/"
        },
        "id": "ePIvBEuMq5uI",
        "outputId": "f7cd74de-6467-4bed-ff0d-5304098cfc57"
      },
      "source": [
        "# kernel size = 8\n",
        "class MyModel8(nn.Module):\n",
        "    def __init__(self):\n",
        "        super().__init__()\n",
        "        self.conv1 = nn.Conv2d(3, 8, kernel_size=8, stride=1, padding=1)\n",
        "        self.conv2 = nn.Conv2d(8, 32, kernel_size=8, stride=1, padding=1)\n",
        "        self.conv3 = nn.Conv2d(32, 64, kernel_size=8, stride=1, padding=1)\n",
        "        self.fc1 = nn.Linear(11 * 11 * 64, 256)\n",
        "        self.fc2 = nn.Linear(256, 128)\n",
        "        self.fc3 = nn.Linear(128, 10)\n",
        "        self.pool = nn.MaxPool2d(2, 2)\n",
        "        self.drop = nn.Dropout(0.2)\n",
        "    \n",
        "    def forward(self, x):\n",
        "        x = self.pool(F.relu(self.conv1(x)))\n",
        "        x = self.pool(F.relu(self.conv2(x)))\n",
        "        x = self.pool(F.relu(self.conv3(x)))\n",
        "        x = x.view(x.shape[0], -1)\n",
        "        x = F.relu(self.fc1(x))\n",
        "        x = F.relu(self.fc2(x))\n",
        "        x = self.fc3(x)\n",
        "        return x\n",
        "\n",
        "model8 = MyModel8()\n",
        "model8"
      ],
      "execution_count": 5,
      "outputs": [
        {
          "output_type": "execute_result",
          "data": {
            "text/plain": [
              "MyModel(\n",
              "  (conv1): Conv2d(3, 8, kernel_size=(8, 8), stride=(1, 1), padding=(1, 1))\n",
              "  (conv2): Conv2d(8, 32, kernel_size=(8, 8), stride=(1, 1), padding=(1, 1))\n",
              "  (conv3): Conv2d(32, 64, kernel_size=(8, 8), stride=(1, 1), padding=(1, 1))\n",
              "  (fc1): Linear(in_features=7744, out_features=256, bias=True)\n",
              "  (fc2): Linear(in_features=256, out_features=128, bias=True)\n",
              "  (fc3): Linear(in_features=128, out_features=10, bias=True)\n",
              "  (pool): MaxPool2d(kernel_size=2, stride=2, padding=0, dilation=1, ceil_mode=False)\n",
              "  (drop): Dropout(p=0.2, inplace=False)\n",
              ")"
            ]
          },
          "metadata": {
            "tags": []
          },
          "execution_count": 5
        }
      ]
    },
    {
      "cell_type": "code",
      "metadata": {
        "id": "Qob2yxCVVzK5",
        "outputId": "07f6f2f1-0803-4519-c135-a1d6d14ff4b1",
        "colab": {
          "base_uri": "https://localhost:8080/"
        }
      },
      "source": [
        "# kernel size = 3\r\n",
        "class MyModel3(nn.Module):\r\n",
        "    def __init__(self):\r\n",
        "        super().__init__()\r\n",
        "        self.conv1 = nn.Conv2d(3, 8, kernel_size=3, stride=1, padding=1)\r\n",
        "        self.conv2 = nn.Conv2d(8, 32, kernel_size=3, stride=1, padding=1)\r\n",
        "        self.conv3 = nn.Conv2d(32, 64, kernel_size=3, stride=1, padding=1)\r\n",
        "        self.fc1 = nn.Linear(16 * 16 * 64, 256)\r\n",
        "        self.fc2 = nn.Linear(256, 128)\r\n",
        "        self.fc3 = nn.Linear(128, 10)\r\n",
        "        self.pool = nn.MaxPool2d(2, 2)\r\n",
        "        self.drop = nn.Dropout(0.2)\r\n",
        "    \r\n",
        "    def forward(self, x):\r\n",
        "        x = self.pool(F.relu(self.conv1(x)))\r\n",
        "        x = self.pool(F.relu(self.conv2(x)))\r\n",
        "        x = self.pool(F.relu(self.conv3(x)))\r\n",
        "        x = x.view(x.shape[0], -1)\r\n",
        "        x = F.relu(self.fc1(x))\r\n",
        "        x = F.relu(self.fc2(x))\r\n",
        "        x = self.fc3(x)\r\n",
        "        return x\r\n",
        "\r\n",
        "model3 = MyModel3()\r\n",
        "model3"
      ],
      "execution_count": 6,
      "outputs": [
        {
          "output_type": "execute_result",
          "data": {
            "text/plain": [
              "MyModel(\n",
              "  (conv1): Conv2d(3, 8, kernel_size=(8, 8), stride=(1, 1), padding=(1, 1))\n",
              "  (conv2): Conv2d(8, 32, kernel_size=(8, 8), stride=(1, 1), padding=(1, 1))\n",
              "  (conv3): Conv2d(32, 64, kernel_size=(8, 8), stride=(1, 1), padding=(1, 1))\n",
              "  (fc1): Linear(in_features=7744, out_features=256, bias=True)\n",
              "  (fc2): Linear(in_features=256, out_features=128, bias=True)\n",
              "  (fc3): Linear(in_features=128, out_features=10, bias=True)\n",
              "  (pool): MaxPool2d(kernel_size=2, stride=2, padding=0, dilation=1, ceil_mode=False)\n",
              "  (drop): Dropout(p=0.2, inplace=False)\n",
              ")"
            ]
          },
          "metadata": {
            "tags": []
          },
          "execution_count": 6
        }
      ]
    },
    {
      "cell_type": "code",
      "metadata": {
        "id": "sFCtjVLIrUo1"
      },
      "source": [
        "def train(model, optimizer, trainloader, testloader, criterion=nn.CrossEntropyLoss(), epochs=5):\n",
        "\n",
        "    device = torch.device(\"cuda\" if torch.cuda.is_available() else \"cpu\")\n",
        "    model.to(device)\n",
        "\n",
        "    print(device)\n",
        "\n",
        "    lowest_testloss = np.Inf\n",
        "\n",
        "    for epoch in range(epochs):\n",
        "\n",
        "        # training\n",
        "        trainloss = 0\n",
        "        for images, labels in trainloader:\n",
        "            images, labels = images.to(device), labels.to(device)\n",
        "            optimizer.zero_grad()\n",
        "            out = model(images)\n",
        "            loss = criterion(out, labels)\n",
        "            loss.backward()\n",
        "            optimizer.step()\n",
        "            trainloss += loss.item()\n",
        "        print(f\"Epoch {epoch}, Training loss: {trainloss}\")\n",
        "\n",
        "        # validation\n",
        "        testloss = 0\n",
        "        for images, labels in testloader:\n",
        "            images, labels = images.to(device), labels.to(device)\n",
        "            with torch.no_grad():\n",
        "                out = model(images)\n",
        "                loss = criterion(out, labels)\n",
        "                testloss += loss\n",
        "        print(f\"Epoch {epoch}, Validation loss: {testloss}\")\n",
        "\n",
        "        if testloss > lowest_testloss: \n",
        "            break\n",
        "        lowest_testloss = testloss\n",
        "    \n",
        "    # final accuracy\n",
        "    totacc = 0\n",
        "    n = 0\n",
        "    for images, labels in testloader:\n",
        "        images, labels = images.to(device), labels.to(device)\n",
        "        with torch.no_grad():\n",
        "            out = model(images)\n",
        "            topv, topi = torch.topk(out, 1, dim=1)\n",
        "            labels.resize_(*topi.shape)\n",
        "            eq = topi == labels\n",
        "            acc = torch.mean(eq.type(torch.FloatTensor))\n",
        "            totacc += acc.item()\n",
        "            n += 1\n",
        "    totacc /= n\n",
        "    print(f\"The final total accuracy is: {totacc * 100}\")"
      ],
      "execution_count": 29,
      "outputs": []
    },
    {
      "cell_type": "code",
      "metadata": {
        "colab": {
          "base_uri": "https://localhost:8080/"
        },
        "id": "Mn_wTX-YO5VB",
        "outputId": "36120988-b9b5-4740-819a-11b561509b60"
      },
      "source": [
        "# kernel size = 8\n",
        "start = timer()\n",
        "train(model8, \n",
        "      optim.SGD(params=model.parameters(), lr=0.005),\n",
        "      trainloader, \n",
        "      testloader, epochs=10)\n",
        "end = timer()\n",
        "print(end-start)\n"
      ],
      "execution_count": 39,
      "outputs": [
        {
          "output_type": "stream",
          "text": [
            "cuda\n",
            "Epoch 0, Training loss: 2379.696984231472\n",
            "Epoch 0, Validation loss: 2327.603759765625\n",
            "Epoch 1, Training loss: 2163.5003519058228\n",
            "Epoch 1, Validation loss: 2024.8846435546875\n",
            "Epoch 2, Training loss: 1954.5557473301888\n",
            "Epoch 2, Validation loss: 1782.1900634765625\n",
            "Epoch 3, Training loss: 1768.3429863452911\n",
            "Epoch 3, Validation loss: 1603.15771484375\n",
            "Epoch 4, Training loss: 1596.3832804858685\n",
            "Epoch 4, Validation loss: 1422.7137451171875\n",
            "Epoch 5, Training loss: 1428.5430053770542\n",
            "Epoch 5, Validation loss: 1240.978271484375\n",
            "Epoch 6, Training loss: 1270.8561427891254\n",
            "Epoch 6, Validation loss: 1092.4261474609375\n",
            "Epoch 7, Training loss: 1108.2045800983906\n",
            "Epoch 7, Validation loss: 908.419189453125\n",
            "Epoch 8, Training loss: 945.7838073074818\n",
            "Epoch 8, Validation loss: 796.86376953125\n",
            "Epoch 9, Training loss: 782.3838985934854\n",
            "Epoch 9, Validation loss: 615.9323120117188\n",
            "The final total accuracy is: 86.69825655790147\n",
            "778.009661047\n"
          ],
          "name": "stdout"
        }
      ]
    },
    {
      "cell_type": "markdown",
      "metadata": {
        "id": "F5Ur2GKV1vLc"
      },
      "source": [
        "cuda\r\n",
        "Epoch 0, Training loss: 3537.0388122797012\r\n",
        "Epoch 0, Validation loss: 3241.00732421875\r\n",
        "Epoch 1, Training loss: 2938.9077928066254\r\n",
        "Epoch 1, Validation loss: 2626.0263671875\r\n",
        "The final total accuracy is: 40.34908829174665\r\n",
        "197.78902494299996"
      ]
    },
    {
      "cell_type": "code",
      "metadata": {
        "id": "y_cZ0Vedy8wi",
        "outputId": "d1d1fbf3-49c4-4eb4-ebcd-3e051525295a",
        "colab": {
          "base_uri": "https://localhost:8080/"
        }
      },
      "source": [
        "# kernel size = 3\r\n",
        "start = timer()\r\n",
        "train(model3, \r\n",
        "      optim.SGD(params=model.parameters(), lr=0.005),\r\n",
        "      trainloader, \r\n",
        "      testloader, epochs=10)\r\n",
        "end = timer()\r\n",
        "print(end-start)\r\n"
      ],
      "execution_count": 41,
      "outputs": [
        {
          "output_type": "stream",
          "text": [
            "cuda\n",
            "Epoch 0, Training loss: 3578.371309518814\n",
            "Epoch 0, Validation loss: 3454.953857421875\n",
            "Epoch 1, Training loss: 3015.80275285244\n",
            "Epoch 1, Validation loss: 2717.365966796875\n",
            "Epoch 2, Training loss: 2598.3815730810165\n",
            "Epoch 2, Validation loss: 2432.9716796875\n",
            "Epoch 3, Training loss: 2386.716751933098\n",
            "Epoch 3, Validation loss: 2263.7333984375\n",
            "Epoch 4, Training loss: 2219.303647518158\n",
            "Epoch 4, Validation loss: 2226.06640625\n",
            "Epoch 5, Training loss: 2036.8343121409416\n",
            "Epoch 5, Validation loss: 2018.4537353515625\n",
            "Epoch 6, Training loss: 1886.2744285464287\n",
            "Epoch 6, Validation loss: 1833.951904296875\n",
            "Epoch 7, Training loss: 1755.89114433527\n",
            "Epoch 7, Validation loss: 1643.8228759765625\n",
            "Epoch 8, Training loss: 1635.2103438973427\n",
            "Epoch 8, Validation loss: 1604.318603515625\n",
            "Epoch 9, Training loss: 1521.239524513483\n",
            "Epoch 9, Validation loss: 1389.611328125\n",
            "The final total accuracy is: 68.80998080614204\n",
            "747.8660239769997\n"
          ],
          "name": "stdout"
        }
      ]
    },
    {
      "cell_type": "code",
      "metadata": {
        "id": "n6OaXXvHaT68",
        "colab": {
          "base_uri": "https://localhost:8080/"
        },
        "outputId": "3da49b17-5dc7-4099-e9b7-9cf60a0beee3"
      },
      "source": [
        "# load model\n",
        "state_dict = torch.load(\"ninetynine.model\")\n",
        "model.load_state_dict(state_dict)"
      ],
      "execution_count": null,
      "outputs": [
        {
          "output_type": "execute_result",
          "data": {
            "text/plain": [
              "<All keys matched successfully>"
            ]
          },
          "metadata": {
            "tags": []
          },
          "execution_count": 8
        }
      ]
    }
  ]
}