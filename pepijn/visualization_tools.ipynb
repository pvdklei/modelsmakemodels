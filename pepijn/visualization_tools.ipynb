{
  "nbformat": 4,
  "nbformat_minor": 0,
  "metadata": {
    "colab": {
      "name": "visualization_tools.ipynb",
      "provenance": [],
      "authorship_tag": "ABX9TyMe4QYKBvK7jFiYCm6wsjDH",
      "include_colab_link": true
    },
    "kernelspec": {
      "name": "python3",
      "display_name": "Python 3"
    }
  },
  "cells": [
    {
      "cell_type": "markdown",
      "metadata": {
        "id": "view-in-github",
        "colab_type": "text"
      },
      "source": [
        "<a href=\"https://colab.research.google.com/github/pvdklei/modelsmakemodels/blob/master/pepijn/visualization_tools.ipynb\" target=\"_parent\"><img src=\"https://colab.research.google.com/assets/colab-badge.svg\" alt=\"Open In Colab\"/></a>"
      ]
    },
    {
      "cell_type": "code",
      "metadata": {
        "id": "WPXk95QXMxLJ"
      },
      "source": [
        "import matplotlib.pyplot as plt"
      ],
      "execution_count": 2,
      "outputs": []
    },
    {
      "cell_type": "code",
      "metadata": {
        "id": "Ap0JcFYjNS7Y"
      },
      "source": [
        "def normalize(x):\n",
        "    max, min = x.max(), x.min()\n",
        "    return (x - min) / (max - min)"
      ],
      "execution_count": 3,
      "outputs": []
    },
    {
      "cell_type": "code",
      "metadata": {
        "id": "neMDp6aNNYWN"
      },
      "source": [
        "def show_filters(model, depth=2, tag=\"conv\"):\n",
        "    \"\"\"Laat zien hoe alle filters in een convolutional neural network eruit zien.\n",
        "    Je kan met \"depth\" aangeven tot hoeveel convolutielagen je wil kijken, aangezien\n",
        "    er na de tweede laag al te veel filters zijn om te bekijken (hoeveel filters \n",
        "    er in zitten ligt aan het aantal \"output_channels\"). Hij doorzoekt de lagen\n",
        "    op de \"tag\". Dus als je een lineaire laag \"fc1\" noemt skipt hij die.\"\"\"\n",
        "    count = 0\n",
        "    for key, filters in model.state_dict().items():\n",
        "        if tag not in key or \"weight\" not in key:\n",
        "            continue\n",
        "            \n",
        "        if count >= depth:\n",
        "            break\n",
        "        count += 1\n",
        "        \n",
        "        fig, axs = plt.subplots(filters.shape[0], filters.shape[1], figsize=(15,15))\n",
        "        fig.suptitle(key)\n",
        "\n",
        "        f = normalize(filters)\n",
        "        f = f.cpu().numpy()\n",
        "\n",
        "        for i in range(f.shape[0]):\n",
        "            for j in range(f.shape[1]):\n",
        "                ax = axs[i,j]\n",
        "                ax.set_xticks([])\n",
        "                ax.set_yticks([])\n",
        "                ax.imshow(f[i,j,:,:])\n",
        "        plt.plot()"
      ],
      "execution_count": 7,
      "outputs": []
    },
    {
      "cell_type": "code",
      "metadata": {
        "id": "qJkanBd4NYz1"
      },
      "source": [
        "def show_feature_repr(model, image, depth=2):\n",
        "    \"\"\"Laat zien hoe een losse foto aangepast word door de convolutie lagen, \n",
        "    van het model. Ook hier weer, na een paar lagen worden het te veel fotos om\n",
        "    te laten zien, dus pakt hij de eerste \"depth\" lagen. (als een laag 16 output \n",
        "    channels heeft worden het dus ook 16 fotos). Hiermee kan je wel prima zien \n",
        "    dat sommige convolutie filters als \"edge detectors\" ofzo werken. De foto \n",
        "    moet geloof ik deze shape hebben: (3, width, height)\"\"\"\n",
        "    image = image.view(1, *image.shape) # add extra batch dimension\n",
        "    conv_layers = [child for i, child in enumerate(model.children()) if type(child) == nn.Conv2d and i <= depth]\n",
        "    reprs = [image]\n",
        "    for layer in conv_layers:\n",
        "        reprs.append(layer(reprs[-1]))\n",
        "    for i, repr in enumerate(reprs):\n",
        "        repr = normalize(repr)\n",
        "        fig, axs = plt.subplots(repr.shape[1])\n",
        "        title = \"Original\" if i == 0 else f\"After {conv_layers[i-1]}\"\n",
        "        fig.suptitle(title)\n",
        "        for chan in range(repr.shape[1]):\n",
        "            img = repr[0,chan,:,:].detach().numpy()\n",
        "            ax = axs[chan]\n",
        "            ax.set_xticks([])\n",
        "            ax.set_yticks([])\n",
        "            ax.imshow(img)\n",
        "        plt.show()\n"
      ],
      "execution_count": 9,
      "outputs": []
    }
  ]
}