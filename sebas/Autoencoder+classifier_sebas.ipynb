{
  "nbformat": 4,
  "nbformat_minor": 0,
  "metadata": {
    "colab": {
      "name": "Autoencoder_sebas.ipynb",
      "provenance": [],
      "collapsed_sections": [],
      "include_colab_link": true
    },
    "kernelspec": {
      "name": "python3",
      "display_name": "Python 3"
    },
    "accelerator": "GPU"
  },
  "cells": [
    {
      "cell_type": "markdown",
      "metadata": {
        "id": "view-in-github",
        "colab_type": "text"
      },
      "source": [
        "<a href=\"https://colab.research.google.com/github/pvdklei/modelsmakemodels/blob/master/sebas/Autoencoder%2Bclassifier_sebas.ipynb\" target=\"_parent\"><img src=\"https://colab.research.google.com/assets/colab-badge.svg\" alt=\"Open In Colab\"/></a>"
      ]
    },
    {
      "cell_type": "code",
      "metadata": {
        "id": "PgoqvG3DmJPs"
      },
      "source": [
        "import torch\n",
        "from torch import nn, optim\n",
        "import torchvision\n",
        "from torchvision import datasets, transforms\n",
        "from torch.utils.data import DataLoader\n",
        "import torch.nn.functional as F\n",
        "import matplotlib.pyplot as plt\n",
        "import numpy as np\n",
        "import train\n",
        "import utils"
      ],
      "execution_count": 1,
      "outputs": []
    },
    {
      "cell_type": "code",
      "metadata": {
        "colab": {
          "base_uri": "https://localhost:8080/"
        },
        "id": "uLhIT2X3mWxn",
        "outputId": "af5092cc-2a2d-47d5-af68-972894b4e364"
      },
      "source": [
        "traintransform = transforms.Compose([transforms.ToTensor(),\n",
        "                                     transforms.Normalize((0.5, 0.5, 0.5), (0.5, 0.5, 0.5))])\n",
        "\n",
        "testtransform = traintransform\n",
        "\n",
        "batch_size = 32\n",
        "num_workers = 2\n",
        "\n",
        "trainset = datasets.CIFAR10(\"/data/cifar10/train\", train=True, transform=traintransform, download=True)\n",
        "trainloader = DataLoader(trainset, batch_size=batch_size, shuffle=True, num_workers=num_workers)\n",
        "\n",
        "testset = datasets.CIFAR10(\"/data/cifar10/test\", train=False, transform=testtransform, download=True)\n",
        "testloader = DataLoader(trainset, batch_size=batch_size, shuffle=True, num_workers=num_workers)"
      ],
      "execution_count": 2,
      "outputs": [
        {
          "output_type": "stream",
          "text": [
            "Files already downloaded and verified\n",
            "Files already downloaded and verified\n"
          ],
          "name": "stdout"
        }
      ]
    },
    {
      "cell_type": "code",
      "metadata": {
        "colab": {
          "base_uri": "https://localhost:8080/"
        },
        "id": "xEK10STTnWDk",
        "outputId": "8fb03912-6102-4951-b3ff-43a78bbb711f"
      },
      "source": [
        "imiter = iter(trainloader)\n",
        "images, _ = next(imiter)\n",
        "image = images[0]\n",
        "images.shape\n"
      ],
      "execution_count": 3,
      "outputs": [
        {
          "output_type": "execute_result",
          "data": {
            "text/plain": [
              "torch.Size([32, 3, 32, 32])"
            ]
          },
          "metadata": {
            "tags": []
          },
          "execution_count": 3
        }
      ]
    },
    {
      "cell_type": "code",
      "metadata": {
        "colab": {
          "base_uri": "https://localhost:8080/",
          "height": 283
        },
        "id": "bcIX4poac29Y",
        "outputId": "a6440b18-6ed2-4501-d1b1-9baa1ce15599"
      },
      "source": [
        "def showimage(image):\r\n",
        "    image = image.detach().numpy()\r\n",
        "    image = image.transpose((1, 2, 0))\r\n",
        "    plt.imshow(image)\r\n",
        "showimage(torchvision.utils.make_grid(images[0]))\r\n"
      ],
      "execution_count": 4,
      "outputs": [
        {
          "output_type": "stream",
          "text": [
            "Clipping input data to the valid range for imshow with RGB data ([0..1] for floats or [0..255] for integers).\n"
          ],
          "name": "stderr"
        },
        {
          "output_type": "display_data",
          "data": {
            "image/png": "[encoded data removed]",
            "text/plain": [
              "<Figure size 432x288 with 1 Axes>"
            ]
          },
          "metadata": {
            "tags": [],
            "needs_background": "light"
          }
        }
      ]
    },
    {
      "cell_type": "code",
      "metadata": {
        "id": "n0l4S7yimc-Z",
        "colab": {
          "base_uri": "https://localhost:8080/"
        },
        "outputId": "c48562c1-8b30-4899-eb2e-aa5bcbc862f6"
      },
      "source": [
        "class Encoder(nn.Module):\n",
        "    def __init__(self):\n",
        "        super().__init__()\n",
        "        self.pool = nn.MaxPool2d(2, 2)\n",
        "        self.drop = nn.Dropout(0.2)\n",
        "\n",
        "        self.conv1 = nn.Conv2d(3, 12, kernel_size=4, stride=2, padding = 1)\n",
        "        self.conv2 = nn.Conv2d(12, 24, kernel_size=4, stride=2, padding=1)\n",
        "        self.conv3 = nn.Conv2d(24, 48, kernel_size=4, stride=2, padding=1)\n",
        "\n",
        "    def forward(self, x):\n",
        "        x = F.relu(self.conv1(x))\n",
        "        x = F.relu(self.conv2(x))\n",
        "        x = F.relu(self.conv3(x))\n",
        "        return x\n",
        "        \n",
        "enc = Encoder()\n",
        "enc(images).shape"
      ],
      "execution_count": 5,
      "outputs": [
        {
          "output_type": "execute_result",
          "data": {
            "text/plain": [
              "torch.Size([32, 48, 4, 4])"
            ]
          },
          "metadata": {
            "tags": []
          },
          "execution_count": 5
        }
      ]
    },
    {
      "cell_type": "code",
      "metadata": {
        "id": "NH4kR8w51b4E",
        "colab": {
          "base_uri": "https://localhost:8080/"
        },
        "outputId": "df3cbebd-6709-4e59-ddc9-989bf0e52040"
      },
      "source": [
        "class Decoder(nn.Module):\n",
        "    def __init__(self):\n",
        "        super().__init__()\n",
        "        self.drop = nn.Dropout(0.2)\n",
        "\n",
        "        self.conv1 = nn.ConvTranspose2d(48, 24, kernel_size=4, stride=2, padding=1)\n",
        "        self.conv2 = nn.ConvTranspose2d(24, 12, kernel_size=4, stride=2, padding=1)\n",
        "        self.conv3 = nn.ConvTranspose2d(12, 3, kernel_size=4, stride=2, padding=1)\n",
        "    \n",
        "    def forward(self, x):\n",
        "        x = F.relu(self.conv1(x))\n",
        "        x = F.relu(self.conv2(x))\n",
        "        x = torch.sigmoid(self.conv3(x))\n",
        "        return x\n",
        "\n",
        "decoder = Decoder()\n",
        "decoder(enc(images)).shape"
      ],
      "execution_count": 6,
      "outputs": [
        {
          "output_type": "execute_result",
          "data": {
            "text/plain": [
              "torch.Size([32, 3, 32, 32])"
            ]
          },
          "metadata": {
            "tags": []
          },
          "execution_count": 6
        }
      ]
    },
    {
      "cell_type": "code",
      "metadata": {
        "id": "olAnjSdn1hbc",
        "colab": {
          "base_uri": "https://localhost:8080/"
        },
        "outputId": "3a3b31b6-3b6e-4a0e-f499-26e72400b494"
      },
      "source": [
        "class AutoEncoder(nn.Module):\n",
        "    def __init__(self):\n",
        "        super().__init__()\n",
        "        self.encoder = Encoder()\n",
        "        self.decoder = Decoder()\n",
        "    def forward(self, x):\n",
        "        x = self.encoder(x)\n",
        "        x = self.decoder(x)\n",
        "        return x\n",
        "\n",
        "autoenc = AutoEncoder()\n",
        "autoenc(images).shape"
      ],
      "execution_count": 7,
      "outputs": [
        {
          "output_type": "execute_result",
          "data": {
            "text/plain": [
              "torch.Size([32, 3, 32, 32])"
            ]
          },
          "metadata": {
            "tags": []
          },
          "execution_count": 7
        }
      ]
    },
    {
      "cell_type": "code",
      "metadata": {
        "colab": {
          "base_uri": "https://localhost:8080/"
        },
        "id": "S5gmDOQPlgT2",
        "outputId": "195ff982-e234-47e3-a749-cbb2e91f280e"
      },
      "source": [
        "model = AutoEncoder()\n",
        "model"
      ],
      "execution_count": 8,
      "outputs": [
        {
          "output_type": "execute_result",
          "data": {
            "text/plain": [
              "AutoEncoder(\n",
              "  (encoder): Encoder(\n",
              "    (pool): MaxPool2d(kernel_size=2, stride=2, padding=0, dilation=1, ceil_mode=False)\n",
              "    (drop): Dropout(p=0.2, inplace=False)\n",
              "    (conv1): Conv2d(3, 12, kernel_size=(4, 4), stride=(2, 2), padding=(1, 1))\n",
              "    (conv2): Conv2d(12, 24, kernel_size=(4, 4), stride=(2, 2), padding=(1, 1))\n",
              "    (conv3): Conv2d(24, 48, kernel_size=(4, 4), stride=(2, 2), padding=(1, 1))\n",
              "  )\n",
              "  (decoder): Decoder(\n",
              "    (drop): Dropout(p=0.2, inplace=False)\n",
              "    (conv1): ConvTranspose2d(48, 24, kernel_size=(4, 4), stride=(2, 2), padding=(1, 1))\n",
              "    (conv2): ConvTranspose2d(24, 12, kernel_size=(4, 4), stride=(2, 2), padding=(1, 1))\n",
              "    (conv3): ConvTranspose2d(12, 3, kernel_size=(4, 4), stride=(2, 2), padding=(1, 1))\n",
              "  )\n",
              ")"
            ]
          },
          "metadata": {
            "tags": []
          },
          "execution_count": 8
        }
      ]
    },
    {
      "cell_type": "code",
      "metadata": {
        "id": "b9sRBJ2GM_XR",
        "colab": {
          "base_uri": "https://localhost:8080/"
        },
        "outputId": "d754598b-8b66-4e5b-dfac-528bba712083"
      },
      "source": [
        "state_dict = torch.load(\"checkpoint.model\")\n",
        "model.load_state_dict(state_dict)"
      ],
      "execution_count": 9,
      "outputs": [
        {
          "output_type": "execute_result",
          "data": {
            "text/plain": [
              "<All keys matched successfully>"
            ]
          },
          "metadata": {
            "tags": []
          },
          "execution_count": 9
        }
      ]
    },
    {
      "cell_type": "code",
      "metadata": {
        "id": "wN01gXhY8-C2",
        "outputId": "0d99e026-a308-49d5-970e-25b290ba2109",
        "colab": {
          "base_uri": "https://localhost:8080/"
        }
      },
      "source": [
        "class Classifier(nn.Module):\r\n",
        "    def __init__(self):\r\n",
        "        super().__init__()\r\n",
        "        self.fc1 = nn.Linear(48*4*4, 10) \r\n",
        "\r\n",
        "    def forward(self, x):\r\n",
        "        x = x.view(x.shape[0], -1)\r\n",
        "        x = self.fc1(x)\r\n",
        "        return x\r\n",
        "\r\n",
        "mod = Classifier()\r\n",
        "mod(enc(images)).shape"
      ],
      "execution_count": 18,
      "outputs": [
        {
          "output_type": "execute_result",
          "data": {
            "text/plain": [
              "torch.Size([32, 10])"
            ]
          },
          "metadata": {
            "tags": []
          },
          "execution_count": 18
        }
      ]
    },
    {
      "cell_type": "code",
      "metadata": {
        "id": "TNWPYZcy9bK1"
      },
      "source": [
        "class AutoEncoder_classifier(nn.Module):\r\n",
        "    def __init__(self):\r\n",
        "        super().__init__()\r\n",
        "        self.encoder = Encoder()\r\n",
        "        self.classifier = Classifier()\r\n",
        "    def forward(self, x):\r\n",
        "        with torch.no_grad():\r\n",
        "            x = self.encoder(x)\r\n",
        "        x = self.classifier(x)\r\n",
        "        return x\r\n",
        "\r\n",
        "class_enc = AutoEncoder_classifier()\r\n"
      ],
      "execution_count": 59,
      "outputs": []
    },
    {
      "cell_type": "code",
      "metadata": {
        "id": "-T5FcNweBsMT",
        "outputId": "6e85c7c2-8f9c-4125-e514-499ba69e8425",
        "colab": {
          "base_uri": "https://localhost:8080/"
        }
      },
      "source": [
        "model = AutoEncoder_classifier()\r\n",
        "model"
      ],
      "execution_count": 60,
      "outputs": [
        {
          "output_type": "execute_result",
          "data": {
            "text/plain": [
              "AutoEncoder_classifier(\n",
              "  (encoder): Encoder(\n",
              "    (pool): MaxPool2d(kernel_size=2, stride=2, padding=0, dilation=1, ceil_mode=False)\n",
              "    (drop): Dropout(p=0.2, inplace=False)\n",
              "    (conv1): Conv2d(3, 12, kernel_size=(4, 4), stride=(2, 2), padding=(1, 1))\n",
              "    (conv2): Conv2d(12, 24, kernel_size=(4, 4), stride=(2, 2), padding=(1, 1))\n",
              "    (conv3): Conv2d(24, 48, kernel_size=(4, 4), stride=(2, 2), padding=(1, 1))\n",
              "  )\n",
              "  (classifier): Classifier(\n",
              "    (fc1): Linear(in_features=768, out_features=10, bias=True)\n",
              "  )\n",
              ")"
            ]
          },
          "metadata": {
            "tags": []
          },
          "execution_count": 60
        }
      ]
    },
    {
      "cell_type": "code",
      "metadata": {
        "id": "jtSKtPhvDrEk"
      },
      "source": [
        "state_dict = torch.load(\"checkpoint.model\")"
      ],
      "execution_count": 61,
      "outputs": []
    },
    {
      "cell_type": "code",
      "metadata": {
        "id": "nq85JNaNDaNh"
      },
      "source": [
        "from torch.nn.parameter import Parameter\r\n",
        "def load_my_state_dict(self, state_dict):\r\n",
        "\r\n",
        "    own_state = self.state_dict()\r\n",
        "    for name, param in state_dict.items():\r\n",
        "        if name not in own_state:\r\n",
        "              continue\r\n",
        "        if isinstance(param, Parameter):\r\n",
        "            # backwards compatibility for serialized parameters\r\n",
        "            param = param.data\r\n",
        "        own_state[name].copy_(param)\r\n",
        "load_my_state_dict(model, state_dict)"
      ],
      "execution_count": 62,
      "outputs": []
    },
    {
      "cell_type": "code",
      "metadata": {
        "id": "W5LRPNH5C3sH"
      },
      "source": [
        "def train(model, optimizer, trainloader, testloader, criterion=nn.CrossEntropyLoss(), epochs=5):\r\n",
        "\r\n",
        "    device = torch.device(\"cuda\" if torch.cuda.is_available() else \"cpu\")\r\n",
        "    model.to(device)\r\n",
        "\r\n",
        "    print(device)\r\n",
        "\r\n",
        "    lowest_testloss = np.Inf\r\n",
        "\r\n",
        "    for epoch in range(epochs):\r\n",
        "\r\n",
        "        # training\r\n",
        "        trainloss = 0\r\n",
        "        for images, labels in trainloader:\r\n",
        "            images, labels = images.to(device), labels.to(device)\r\n",
        "            optimizer.zero_grad()\r\n",
        "            out = model(images)\r\n",
        "            loss = criterion(out, labels)\r\n",
        "            loss.backward()\r\n",
        "            optimizer.step()\r\n",
        "            trainloss += loss.item()\r\n",
        "        print(f\"Epoch {epoch}, Training loss: {trainloss}\")\r\n",
        "\r\n",
        "        # validation\r\n",
        "        testloss = 0\r\n",
        "        for images, labels in testloader:\r\n",
        "            images, labels = images.to(device), labels.to(device)\r\n",
        "            with torch.no_grad():\r\n",
        "                out = model(images)\r\n",
        "                loss = criterion(out, labels)\r\n",
        "                testloss += loss\r\n",
        "        print(f\"Epoch {epoch}, Validation loss: {testloss}\")\r\n",
        "\r\n",
        "\r\n",
        "        lowest_testloss = testloss\r\n",
        "    \r\n",
        "    # final accuracy\r\n",
        "    totacc = 0\r\n",
        "    n = 0\r\n",
        "    for images, labels in testloader:\r\n",
        "        images, labels = images.to(device), labels.to(device)\r\n",
        "        with torch.no_grad():\r\n",
        "            out = model(images)\r\n",
        "            topv, topi = torch.topk(out, 1, dim=1)\r\n",
        "            labels.resize_(*topi.shape)\r\n",
        "            eq = topi == labels\r\n",
        "            acc = torch.mean(eq.type(torch.FloatTensor))\r\n",
        "            totacc += acc.item()\r\n",
        "            n += 1\r\n",
        "    totacc /= n\r\n",
        "    print(f\"The final total accuracy is: {totacc * 100}\")"
      ],
      "execution_count": 63,
      "outputs": []
    },
    {
      "cell_type": "code",
      "metadata": {
        "id": "vfi5dL52FxrI",
        "outputId": "84017448-d67c-4665-b00e-25bbf047d980",
        "colab": {
          "base_uri": "https://localhost:8080/"
        }
      },
      "source": [
        "train(model, \r\n",
        "      optim.SGD(params=model.parameters(), lr=0.005),\r\n",
        "      trainloader, \r\n",
        "      testloader, epochs=10)"
      ],
      "execution_count": null,
      "outputs": [
        {
          "output_type": "stream",
          "text": [
            "cuda\n",
            "Epoch 0, Training loss: 16974.97495317459\n",
            "Epoch 0, Validation loss: 18635.681640625\n",
            "Epoch 1, Training loss: 13856.654603481293\n",
            "Epoch 1, Validation loss: 15937.3876953125\n",
            "Epoch 2, Training loss: 13090.264585494995\n",
            "Epoch 2, Validation loss: 16929.119140625\n",
            "Epoch 3, Training loss: 13096.683172225952\n"
          ],
          "name": "stdout"
        }
      ]
    }
  ]
}