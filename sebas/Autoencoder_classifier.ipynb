{
  "nbformat": 4,
  "nbformat_minor": 0,
  "metadata": {
    "colab": {
      "name": "Autoencoder_sebas.ipynb",
      "provenance": [],
      "collapsed_sections": [],
      "include_colab_link": true
    },
    "kernelspec": {
      "name": "python3",
      "display_name": "Python 3"
    },
    "accelerator": "GPU"
  },
  "cells": [
    {
      "cell_type": "markdown",
      "metadata": {
        "id": "view-in-github",
        "colab_type": "text"
      },
      "source": [
        "<a href=\"https://colab.research.google.com/github/pvdklei/modelsmakemodels/blob/master/sebas/Autoencoder_classifier.ipynb\" target=\"_parent\"><img src=\"https://colab.research.google.com/assets/colab-badge.svg\" alt=\"Open In Colab\"/></a>"
      ]
    },
    {
      "cell_type": "code",
      "metadata": {
        "id": "PgoqvG3DmJPs"
      },
      "source": [
        "import torch\n",
        "from torch import nn, optim\n",
        "import torchvision\n",
        "from torchvision import datasets, transforms\n",
        "from torch.utils.data import DataLoader\n",
        "import torch.nn.functional as F\n",
        "import matplotlib.pyplot as plt\n",
        "import numpy as np\n",
        "import train\n",
        "import utils"
      ],
      "execution_count": 2,
      "outputs": []
    },
    {
      "cell_type": "code",
      "metadata": {
        "colab": {
          "base_uri": "https://localhost:8080/"
        },
        "id": "uLhIT2X3mWxn",
        "outputId": "6ec8e435-379d-4bbb-f0ae-d116ce5032f5"
      },
      "source": [
        "traintransform = transforms.Compose([transforms.ToTensor(),\n",
        "                                     transforms.Normalize((0.5, 0.5, 0.5), (0.5, 0.5, 0.5))])\n",
        "\n",
        "testtransform = traintransform\n",
        "\n",
        "batch_size = 32\n",
        "num_workers = 2\n",
        "\n",
        "trainset = datasets.CIFAR10(\"/data/cifar10/train\", train=True, transform=traintransform, download=True)\n",
        "trainloader = DataLoader(trainset, batch_size=batch_size, shuffle=True, num_workers=num_workers)\n",
        "\n",
        "testset = datasets.CIFAR10(\"/data/cifar10/test\", train=False, transform=testtransform, download=True)\n",
        "testloader = DataLoader(trainset, batch_size=batch_size, shuffle=True, num_workers=num_workers)"
      ],
      "execution_count": 3,
      "outputs": [
        {
          "output_type": "stream",
          "text": [
            "Files already downloaded and verified\n",
            "Files already downloaded and verified\n"
          ],
          "name": "stdout"
        }
      ]
    },
    {
      "cell_type": "code",
      "metadata": {
        "colab": {
          "base_uri": "https://localhost:8080/"
        },
        "id": "xEK10STTnWDk",
        "outputId": "b693c706-4261-46ca-a55c-fbe12feb04d7"
      },
      "source": [
        "imiter = iter(trainloader)\n",
        "images, _ = next(imiter)\n",
        "image = images[0]\n",
        "images.shape\n"
      ],
      "execution_count": 4,
      "outputs": [
        {
          "output_type": "execute_result",
          "data": {
            "text/plain": [
              "torch.Size([32, 3, 32, 32])"
            ]
          },
          "metadata": {
            "tags": []
          },
          "execution_count": 4
        }
      ]
    },
    {
      "cell_type": "code",
      "metadata": {
        "colab": {
          "base_uri": "https://localhost:8080/",
          "height": 283
        },
        "id": "bcIX4poac29Y",
        "outputId": "075ebfc7-670c-43bb-ec3e-7981967573ba"
      },
      "source": [
        "def showimage(image):\r\n",
        "    image = image.detach().numpy()\r\n",
        "    image = image.transpose((1, 2, 0))\r\n",
        "    plt.imshow(image)\r\n",
        "showimage(torchvision.utils.make_grid(images[0]))\r\n"
      ],
      "execution_count": 5,
      "outputs": [
        {
          "output_type": "stream",
          "text": [
            "Clipping input data to the valid range for imshow with RGB data ([0..1] for floats or [0..255] for integers).\n"
          ],
          "name": "stderr"
        },
        {
          "output_type": "display_data",
          "data": {
            "image/png": "[encoded data removed]",
            "text/plain": [
              "<Figure size 432x288 with 1 Axes>"
            ]
          },
          "metadata": {
            "tags": [],
            "needs_background": "light"
          }
        }
      ]
    },
    {
      "cell_type": "code",
      "metadata": {
        "id": "n0l4S7yimc-Z",
        "colab": {
          "base_uri": "https://localhost:8080/"
        },
        "outputId": "b59e175a-9041-42fd-9a4b-fa864746f726"
      },
      "source": [
        "class Encoder(nn.Module):\n",
        "    def __init__(self):\n",
        "        super().__init__()\n",
        "        self.pool = nn.MaxPool2d(2, 2)\n",
        "        self.drop = nn.Dropout(0.2)\n",
        "\n",
        "        self.conv1 = nn.Conv2d(3, 12, kernel_size=4, stride=2, padding = 1)\n",
        "        self.conv2 = nn.Conv2d(12, 24, kernel_size=4, stride=2, padding=1)\n",
        "        self.conv3 = nn.Conv2d(24, 48, kernel_size=4, stride=2, padding=1)\n",
        "\n",
        "    def forward(self, x):\n",
        "        x = F.relu(self.conv1(x))\n",
        "        x = F.relu(self.conv2(x))\n",
        "        x = F.relu(self.conv3(x))\n",
        "        return x\n",
        "        \n",
        "enc = Encoder()\n",
        "enc(images).shape"
      ],
      "execution_count": 6,
      "outputs": [
        {
          "output_type": "execute_result",
          "data": {
            "text/plain": [
              "torch.Size([32, 48, 4, 4])"
            ]
          },
          "metadata": {
            "tags": []
          },
          "execution_count": 6
        }
      ]
    },
    {
      "cell_type": "code",
      "metadata": {
        "id": "NH4kR8w51b4E",
        "colab": {
          "base_uri": "https://localhost:8080/"
        },
        "outputId": "ad39ce4e-cc91-4f0b-e165-215cdeca3010"
      },
      "source": [
        "class Decoder(nn.Module):\n",
        "    def __init__(self):\n",
        "        super().__init__()\n",
        "        self.drop = nn.Dropout(0.2)\n",
        "\n",
        "        self.conv1 = nn.ConvTranspose2d(48, 24, kernel_size=4, stride=2, padding=1)\n",
        "        self.conv2 = nn.ConvTranspose2d(24, 12, kernel_size=4, stride=2, padding=1)\n",
        "        self.conv3 = nn.ConvTranspose2d(12, 3, kernel_size=4, stride=2, padding=1)\n",
        "    \n",
        "    def forward(self, x):\n",
        "        x = F.relu(self.conv1(x))\n",
        "        x = F.relu(self.conv2(x))\n",
        "        x = torch.sigmoid(self.conv3(x))\n",
        "        return x\n",
        "\n",
        "decoder = Decoder()\n",
        "decoder(enc(images)).shape"
      ],
      "execution_count": 7,
      "outputs": [
        {
          "output_type": "execute_result",
          "data": {
            "text/plain": [
              "torch.Size([32, 3, 32, 32])"
            ]
          },
          "metadata": {
            "tags": []
          },
          "execution_count": 7
        }
      ]
    },
    {
      "cell_type": "code",
      "metadata": {
        "id": "olAnjSdn1hbc",
        "colab": {
          "base_uri": "https://localhost:8080/"
        },
        "outputId": "820bb109-977c-4e92-8e03-596c6ca82cfb"
      },
      "source": [
        "class AutoEncoder(nn.Module):\n",
        "    def __init__(self):\n",
        "        super().__init__()\n",
        "        self.encoder = Encoder()\n",
        "        self.decoder = Decoder()\n",
        "    def forward(self, x):\n",
        "        x = self.encoder(x)\n",
        "        x = self.decoder(x)\n",
        "        return x\n",
        "\n",
        "autoenc = AutoEncoder()\n",
        "autoenc(images).shape"
      ],
      "execution_count": 8,
      "outputs": [
        {
          "output_type": "execute_result",
          "data": {
            "text/plain": [
              "torch.Size([32, 3, 32, 32])"
            ]
          },
          "metadata": {
            "tags": []
          },
          "execution_count": 8
        }
      ]
    },
    {
      "cell_type": "code",
      "metadata": {
        "colab": {
          "base_uri": "https://localhost:8080/"
        },
        "id": "S5gmDOQPlgT2",
        "outputId": "59ab8a8f-3f0d-4d16-f072-2d953a064eef"
      },
      "source": [
        "model = AutoEncoder()\n",
        "model"
      ],
      "execution_count": 9,
      "outputs": [
        {
          "output_type": "execute_result",
          "data": {
            "text/plain": [
              "AutoEncoder(\n",
              "  (encoder): Encoder(\n",
              "    (pool): MaxPool2d(kernel_size=2, stride=2, padding=0, dilation=1, ceil_mode=False)\n",
              "    (drop): Dropout(p=0.2, inplace=False)\n",
              "    (conv1): Conv2d(3, 12, kernel_size=(4, 4), stride=(2, 2), padding=(1, 1))\n",
              "    (conv2): Conv2d(12, 24, kernel_size=(4, 4), stride=(2, 2), padding=(1, 1))\n",
              "    (conv3): Conv2d(24, 48, kernel_size=(4, 4), stride=(2, 2), padding=(1, 1))\n",
              "  )\n",
              "  (decoder): Decoder(\n",
              "    (drop): Dropout(p=0.2, inplace=False)\n",
              "    (conv1): ConvTranspose2d(48, 24, kernel_size=(4, 4), stride=(2, 2), padding=(1, 1))\n",
              "    (conv2): ConvTranspose2d(24, 12, kernel_size=(4, 4), stride=(2, 2), padding=(1, 1))\n",
              "    (conv3): ConvTranspose2d(12, 3, kernel_size=(4, 4), stride=(2, 2), padding=(1, 1))\n",
              "  )\n",
              ")"
            ]
          },
          "metadata": {
            "tags": []
          },
          "execution_count": 9
        }
      ]
    },
    {
      "cell_type": "code",
      "metadata": {
        "id": "b9sRBJ2GM_XR",
        "colab": {
          "base_uri": "https://localhost:8080/"
        },
        "outputId": "34477f01-6861-4e97-9f1f-a619abec708f"
      },
      "source": [
        "state_dict = torch.load(\"checkpoint.model\")\n",
        "model.load_state_dict(state_dict)"
      ],
      "execution_count": 10,
      "outputs": [
        {
          "output_type": "execute_result",
          "data": {
            "text/plain": [
              "<All keys matched successfully>"
            ]
          },
          "metadata": {
            "tags": []
          },
          "execution_count": 10
        }
      ]
    },
    {
      "cell_type": "code",
      "metadata": {
        "colab": {
          "base_uri": "https://localhost:8080/"
        },
        "id": "wN01gXhY8-C2",
        "outputId": "70d90fb8-f6d1-4652-950a-2265c6763769"
      },
      "source": [
        "class Classifier(nn.Module):\r\n",
        "    def __init__(self):\r\n",
        "        super().__init__()\r\n",
        "        self.fc1 = nn.Linear(48*4*4, 10) \r\n",
        "\r\n",
        "    def forward(self, x):\r\n",
        "        x = x.view(x.shape[0], -1)\r\n",
        "        x = self.fc1(x)\r\n",
        "        return x\r\n",
        "\r\n",
        "mod = Classifier()\r\n",
        "mod(enc(images)).shape"
      ],
      "execution_count": 11,
      "outputs": [
        {
          "output_type": "execute_result",
          "data": {
            "text/plain": [
              "torch.Size([32, 10])"
            ]
          },
          "metadata": {
            "tags": []
          },
          "execution_count": 11
        }
      ]
    },
    {
      "cell_type": "code",
      "metadata": {
        "id": "TNWPYZcy9bK1"
      },
      "source": [
        "class AutoEncoder_classifier(nn.Module):\r\n",
        "    def __init__(self):\r\n",
        "        super().__init__()\r\n",
        "        self.encoder = Encoder()\r\n",
        "        self.classifier = Classifier()\r\n",
        "    def forward(self, x):\r\n",
        "        with torch.no_grad():\r\n",
        "            x = self.encoder(x)\r\n",
        "        x = self.classifier(x)\r\n",
        "        return x\r\n",
        "\r\n",
        "class_enc = AutoEncoder_classifier()\r\n"
      ],
      "execution_count": 12,
      "outputs": []
    },
    {
      "cell_type": "code",
      "metadata": {
        "colab": {
          "base_uri": "https://localhost:8080/"
        },
        "id": "-T5FcNweBsMT",
        "outputId": "042f4d2c-0ee1-4ce4-b3d6-71972fc6b2ed"
      },
      "source": [
        "model = AutoEncoder_classifier()\r\n",
        "model"
      ],
      "execution_count": 13,
      "outputs": [
        {
          "output_type": "execute_result",
          "data": {
            "text/plain": [
              "AutoEncoder_classifier(\n",
              "  (encoder): Encoder(\n",
              "    (pool): MaxPool2d(kernel_size=2, stride=2, padding=0, dilation=1, ceil_mode=False)\n",
              "    (drop): Dropout(p=0.2, inplace=False)\n",
              "    (conv1): Conv2d(3, 12, kernel_size=(4, 4), stride=(2, 2), padding=(1, 1))\n",
              "    (conv2): Conv2d(12, 24, kernel_size=(4, 4), stride=(2, 2), padding=(1, 1))\n",
              "    (conv3): Conv2d(24, 48, kernel_size=(4, 4), stride=(2, 2), padding=(1, 1))\n",
              "  )\n",
              "  (classifier): Classifier(\n",
              "    (fc1): Linear(in_features=768, out_features=10, bias=True)\n",
              "  )\n",
              ")"
            ]
          },
          "metadata": {
            "tags": []
          },
          "execution_count": 13
        }
      ]
    },
    {
      "cell_type": "code",
      "metadata": {
        "id": "jtSKtPhvDrEk"
      },
      "source": [
        "state_dict = torch.load(\"checkpoint.model\")"
      ],
      "execution_count": 14,
      "outputs": []
    },
    {
      "cell_type": "code",
      "metadata": {
        "id": "nq85JNaNDaNh"
      },
      "source": [
        "from torch.nn.parameter import Parameter\r\n",
        "def load_my_state_dict(self, state_dict):\r\n",
        "\r\n",
        "    own_state = self.state_dict()\r\n",
        "    for name, param in state_dict.items():\r\n",
        "        if name not in own_state:\r\n",
        "              continue\r\n",
        "        if isinstance(param, Parameter):\r\n",
        "            # backwards compatibility for serialized parameters\r\n",
        "            param = param.data\r\n",
        "        own_state[name].copy_(param)\r\n",
        "load_my_state_dict(model, state_dict)\r\n",
        "\r\n"
      ],
      "execution_count": 15,
      "outputs": []
    },
    {
      "cell_type": "code",
      "metadata": {
        "id": "W5LRPNH5C3sH"
      },
      "source": [
        "def train(model, optimizer, trainloader, testloader, criterion=nn.CrossEntropyLoss(), epochs=5):\r\n",
        "\r\n",
        "    device = torch.device(\"cuda\" if torch.cuda.is_available() else \"cpu\")\r\n",
        "    model.to(device)\r\n",
        "\r\n",
        "    print(device)\r\n",
        "\r\n",
        "    lowest_testloss = np.Inf\r\n",
        "\r\n",
        "    for epoch in range(epochs):\r\n",
        "\r\n",
        "        # training\r\n",
        "        trainloss = 0\r\n",
        "        for images, labels in trainloader:\r\n",
        "            images, labels = images.to(device), labels.to(device)\r\n",
        "            optimizer.zero_grad()\r\n",
        "            out = model(images)\r\n",
        "            loss = criterion(out, labels)\r\n",
        "            loss.backward()\r\n",
        "            optimizer.step()\r\n",
        "            trainloss += loss.item()\r\n",
        "        print(f\"Epoch {epoch}, Training loss: {trainloss/len(trainloader)}\")\r\n",
        "\r\n",
        "        # validation\r\n",
        "        testloss = 0\r\n",
        "        for images, labels in testloader:\r\n",
        "            images, labels = images.to(device), labels.to(device)\r\n",
        "            with torch.no_grad():\r\n",
        "                out = model(images)\r\n",
        "                loss = criterion(out, labels)\r\n",
        "                testloss += loss\r\n",
        "        print(f\"Epoch {epoch}, Validation loss: {testloss/len(testloader)}\")\r\n",
        "        \r\n",
        "\r\n",
        "\r\n",
        "        lowest_testloss = testloss\r\n",
        "    \r\n",
        "    # final accuracy\r\n",
        "    totacc = 0\r\n",
        "    n = 0\r\n",
        "    for images, labels in testloader:\r\n",
        "        images, labels = images.to(device), labels.to(device)\r\n",
        "        with torch.no_grad():\r\n",
        "            out = model(images)\r\n",
        "            topv, topi = torch.topk(out, 1, dim=1)\r\n",
        "            labels.resize_(*topi.shape)\r\n",
        "            eq = topi == labels\r\n",
        "            acc = torch.mean(eq.type(torch.FloatTensor))\r\n",
        "            totacc += acc.item()\r\n",
        "            n += 1\r\n",
        "    totacc = n\r\n",
        "    print(f\"The final total accuracy is: {totacc * 100}\")"
      ],
      "execution_count": 16,
      "outputs": []
    },
    {
      "cell_type": "code",
      "metadata": {
        "colab": {
          "base_uri": "https://localhost:8080/"
        },
        "id": "vfi5dL52FxrI",
        "outputId": "62f2e9c8-6c56-42c8-f40e-05d9d47ca067"
      },
      "source": [
        "train(model, \r\n",
        "      optim.Adam(params=model.classifier.parameters(), lr=0.001),\r\n",
        "      trainloader, \r\n",
        "      testloader, epochs=40)"
      ],
      "execution_count": 18,
      "outputs": [
        {
          "output_type": "stream",
          "text": [
            "cuda\n",
            "Epoch 0, Training loss: 1.9344729619078047\n",
            "Epoch 0, Validation loss: 1.871349573135376\n",
            "Epoch 1, Training loss: 1.9415711998863245\n",
            "Epoch 1, Validation loss: 1.8313673734664917\n",
            "Epoch 2, Training loss: 1.9051649142592975\n",
            "Epoch 2, Validation loss: 1.8893557786941528\n",
            "Epoch 3, Training loss: 1.9309906576660605\n",
            "Epoch 3, Validation loss: 1.8504259586334229\n",
            "Epoch 4, Training loss: 1.9046103502799514\n",
            "Epoch 4, Validation loss: 1.7836047410964966\n",
            "Epoch 5, Training loss: 1.8981830642838091\n",
            "Epoch 5, Validation loss: 1.9689297676086426\n",
            "Epoch 6, Training loss: 1.8989581964142568\n",
            "Epoch 6, Validation loss: 1.9044287204742432\n",
            "Epoch 7, Training loss: 1.9197154187729017\n",
            "Epoch 7, Validation loss: 1.9624512195587158\n",
            "Epoch 8, Training loss: 1.8874044674600612\n",
            "Epoch 8, Validation loss: 1.8700913190841675\n",
            "Epoch 9, Training loss: 1.8951141053258953\n",
            "Epoch 9, Validation loss: 1.8448433876037598\n",
            "Epoch 10, Training loss: 1.8925918194245468\n",
            "Epoch 10, Validation loss: 2.096052646636963\n",
            "Epoch 11, Training loss: 1.882527650966144\n",
            "Epoch 11, Validation loss: 1.8286893367767334\n",
            "Epoch 12, Training loss: 1.8822205377860628\n",
            "Epoch 12, Validation loss: 1.7779191732406616\n",
            "Epoch 13, Training loss: 1.8691800294285468\n",
            "Epoch 13, Validation loss: 1.935776948928833\n",
            "Epoch 14, Training loss: 1.8909490755255682\n",
            "Epoch 14, Validation loss: 1.7094272375106812\n",
            "Epoch 15, Training loss: 1.8913545874701199\n",
            "Epoch 15, Validation loss: 1.946221113204956\n",
            "Epoch 16, Training loss: 1.881440046576453\n",
            "Epoch 16, Validation loss: 1.9350974559783936\n",
            "Epoch 17, Training loss: 1.885937841367203\n",
            "Epoch 17, Validation loss: 1.8903642892837524\n",
            "Epoch 18, Training loss: 1.8808283928641125\n",
            "Epoch 18, Validation loss: 1.919796347618103\n",
            "Epoch 19, Training loss: 1.864526803495025\n",
            "Epoch 19, Validation loss: 1.7482388019561768\n",
            "Epoch 20, Training loss: 1.8712310461912565\n",
            "Epoch 20, Validation loss: 1.945176124572754\n",
            "Epoch 21, Training loss: 1.8728043100274074\n",
            "Epoch 21, Validation loss: 1.8213932514190674\n",
            "Epoch 22, Training loss: 1.871108719308027\n",
            "Epoch 22, Validation loss: 1.7932766675949097\n",
            "Epoch 23, Training loss: 1.863004778107236\n",
            "Epoch 23, Validation loss: 1.8184142112731934\n",
            "Epoch 24, Training loss: 1.8827848075981408\n",
            "Epoch 24, Validation loss: 1.6759752035140991\n",
            "Epoch 25, Training loss: 1.8714604211478987\n",
            "Epoch 25, Validation loss: 1.805943250656128\n",
            "Epoch 26, Training loss: 1.863982685849366\n",
            "Epoch 26, Validation loss: 1.8125895261764526\n",
            "Epoch 27, Training loss: 1.8786760371843363\n",
            "Epoch 27, Validation loss: 1.9489796161651611\n",
            "Epoch 28, Training loss: 1.8633293127754293\n",
            "Epoch 28, Validation loss: 1.9640369415283203\n",
            "Epoch 29, Training loss: 1.882475322054047\n",
            "Epoch 29, Validation loss: 1.9050307273864746\n",
            "Epoch 30, Training loss: 1.8754860139854124\n",
            "Epoch 30, Validation loss: 1.844563364982605\n",
            "Epoch 31, Training loss: 1.867239387769083\n",
            "Epoch 31, Validation loss: 1.738034725189209\n",
            "Epoch 32, Training loss: 1.8515027925057512\n",
            "Epoch 32, Validation loss: 1.7866501808166504\n",
            "Epoch 33, Training loss: 1.8499542560931284\n",
            "Epoch 33, Validation loss: 1.801154613494873\n",
            "Epoch 34, Training loss: 1.8686126311162459\n",
            "Epoch 34, Validation loss: 1.860682725906372\n",
            "Epoch 35, Training loss: 1.8566955806960377\n",
            "Epoch 35, Validation loss: 1.8739078044891357\n",
            "Epoch 36, Training loss: 1.860625391195618\n",
            "Epoch 36, Validation loss: 1.7785463333129883\n",
            "Epoch 37, Training loss: 1.8527845463078523\n",
            "Epoch 37, Validation loss: 1.8007380962371826\n",
            "Epoch 38, Training loss: 1.8768292798190565\n",
            "Epoch 38, Validation loss: 1.9907578229904175\n",
            "Epoch 39, Training loss: 1.8455413232151698\n",
            "Epoch 39, Validation loss: 1.737767219543457\n",
            "The final total accuracy is: 156300\n"
          ],
          "name": "stdout"
        }
      ]
    },
    {
      "cell_type": "code",
      "metadata": {
        "id": "RybTuNuJ11D4"
      },
      "source": [
        "torch.save(model.state_dict(), 'checkpoint_auto_classifier.model')"
      ],
      "execution_count": 19,
      "outputs": []
    }
  ]
}