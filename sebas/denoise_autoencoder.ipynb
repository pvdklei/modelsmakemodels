{
  "nbformat": 4,
  "nbformat_minor": 0,
  "metadata": {
    "colab": {
      "name": "denoise_autoencoder.ipynb",
      "provenance": [],
      "collapsed_sections": [],
      "include_colab_link": true
    },
    "kernelspec": {
      "name": "python3",
      "display_name": "Python 3"
    },
    "accelerator": "GPU"
  },
  "cells": [
    {
      "cell_type": "markdown",
      "metadata": {
        "id": "view-in-github",
        "colab_type": "text"
      },
      "source": [
        "<a href=\"https://colab.research.google.com/github/pvdklei/modelsmakemodels/blob/master/sebas/denoise_autoencoder.ipynb\" target=\"_parent\"><img src=\"https://colab.research.google.com/assets/colab-badge.svg\" alt=\"Open In Colab\"/></a>"
      ]
    },
    {
      "cell_type": "code",
      "metadata": {
        "id": "PgoqvG3DmJPs"
      },
      "source": [
        "import torch\n",
        "from torch import nn, optim\n",
        "import torchvision\n",
        "from torchvision import datasets, transforms\n",
        "from torch.utils.data import DataLoader\n",
        "import torch.nn.functional as F\n",
        "import matplotlib.pyplot as plt\n",
        "import numpy as np\n",
        "import train\n",
        "import utils"
      ],
      "execution_count": 1,
      "outputs": []
    },
    {
      "cell_type": "code",
      "metadata": {
        "colab": {
          "base_uri": "https://localhost:8080/"
        },
        "id": "uLhIT2X3mWxn",
        "outputId": "fbabe0c3-2ecd-4275-b316-f55daee577e0"
      },
      "source": [
        "traintransform = transforms.Compose([transforms.ToTensor(),\n",
        "                                     transforms.Normalize((0.5, 0.5, 0.5), (0.5, 0.5, 0.5))])\n",
        "\n",
        "testtransform = traintransform\n",
        "\n",
        "batch_size = 32\n",
        "num_workers = 2\n",
        "\n",
        "trainset = datasets.CIFAR10(\"/data/cifar10/train\", train=True, transform=traintransform, download=True)\n",
        "trainloader = DataLoader(trainset, batch_size=batch_size, shuffle=True, num_workers=num_workers)\n",
        "\n",
        "testset = datasets.CIFAR10(\"/data/cifar10/test\", train=False, transform=testtransform, download=True)\n",
        "testloader = DataLoader(trainset, batch_size=batch_size, shuffle=True, num_workers=num_workers)"
      ],
      "execution_count": 2,
      "outputs": [
        {
          "output_type": "stream",
          "text": [
            "Files already downloaded and verified\n",
            "Files already downloaded and verified\n"
          ],
          "name": "stdout"
        }
      ]
    },
    {
      "cell_type": "code",
      "metadata": {
        "colab": {
          "base_uri": "https://localhost:8080/"
        },
        "id": "xEK10STTnWDk",
        "outputId": "baf45f0c-074b-45a0-f9e2-6224b5383142"
      },
      "source": [
        "imiter = iter(trainloader)\n",
        "images, _ = next(imiter)\n",
        "image = images[0]\n",
        "images.shape\n"
      ],
      "execution_count": 3,
      "outputs": [
        {
          "output_type": "execute_result",
          "data": {
            "text/plain": [
              "torch.Size([32, 3, 32, 32])"
            ]
          },
          "metadata": {
            "tags": []
          },
          "execution_count": 3
        }
      ]
    },
    {
      "cell_type": "code",
      "metadata": {
        "colab": {
          "base_uri": "https://localhost:8080/",
          "height": 283
        },
        "id": "bcIX4poac29Y",
        "outputId": "90377ac2-c096-411d-f68d-a696f97cc55c"
      },
      "source": [
        "def showimage(image):\r\n",
        "    image = image.detach().numpy()\r\n",
        "    image = image.transpose((1, 2, 0))\r\n",
        "    plt.imshow(image)\r\n",
        "showimage(torchvision.utils.make_grid(images[0]))\r\n"
      ],
      "execution_count": 4,
      "outputs": [
        {
          "output_type": "stream",
          "text": [
            "Clipping input data to the valid range for imshow with RGB data ([0..1] for floats or [0..255] for integers).\n"
          ],
          "name": "stderr"
        },
        {
          "output_type": "display_data",
          "data": {
            "image/png": "[encoded data removed]",
            "text/plain": [
              "<Figure size 432x288 with 1 Axes>"
            ]
          },
          "metadata": {
            "tags": [],
            "needs_background": "light"
          }
        }
      ]
    },
    {
      "cell_type": "code",
      "metadata": {
        "id": "VPir1rr1qpbD"
      },
      "source": [
        ""
      ],
      "execution_count": 4,
      "outputs": []
    },
    {
      "cell_type": "code",
      "metadata": {
        "id": "n0l4S7yimc-Z",
        "colab": {
          "base_uri": "https://localhost:8080/"
        },
        "outputId": "ffadbf4b-22ac-4364-c4c3-7fc58b1bf2e5"
      },
      "source": [
        "class Encoder(nn.Module):\n",
        "    def __init__(self):\n",
        "        super().__init__()\n",
        "        self.pool = nn.MaxPool2d(2, 2)\n",
        "        self.drop = nn.Dropout(0.2)\n",
        "\n",
        "        self.conv1 = nn.Conv2d(3, 12, kernel_size=4, stride=2, padding = 1)\n",
        "        self.conv2 = nn.Conv2d(12, 24, kernel_size=4, stride=2, padding=1)\n",
        "        self.conv3 = nn.Conv2d(24, 48, kernel_size=4, stride=2, padding=1)\n",
        "\n",
        "\n",
        "    def forward(self, x):\n",
        "        x = F.relu(self.conv1(x))\n",
        "        x = F.relu(self.conv2(x))\n",
        "        x = F.relu(self.conv3(x))\n",
        "        return x\n",
        "        \n",
        "enc = Encoder()\n",
        "enc(images).shape"
      ],
      "execution_count": 5,
      "outputs": [
        {
          "output_type": "execute_result",
          "data": {
            "text/plain": [
              "torch.Size([32, 48, 4, 4])"
            ]
          },
          "metadata": {
            "tags": []
          },
          "execution_count": 5
        }
      ]
    },
    {
      "cell_type": "code",
      "metadata": {
        "id": "NH4kR8w51b4E",
        "colab": {
          "base_uri": "https://localhost:8080/"
        },
        "outputId": "431ef5e6-0ca1-4044-ecf9-86af9a665c95"
      },
      "source": [
        "class Decoder(nn.Module):\n",
        "    def __init__(self):\n",
        "        super().__init__()\n",
        "        self.drop = nn.Dropout(0.2)\n",
        "        \n",
        "        self.conv1 = nn.ConvTranspose2d(48, 24, kernel_size=4, stride=2, padding=1)\n",
        "        self.conv2 = nn.ConvTranspose2d(24, 12, kernel_size=4, stride=2, padding=1)\n",
        "        self.conv3 = nn.ConvTranspose2d(12, 3, kernel_size=4, stride=2, padding=1)\n",
        "    \n",
        "    def forward(self, x):\n",
        "        x = F.relu(self.conv1(x))\n",
        "        x = F.relu(self.conv2(x))\n",
        "        x = torch.sigmoid(self.conv3(x))\n",
        "        return x\n",
        "\n",
        "decoder = Decoder()\n",
        "decoder(enc(images)).shape"
      ],
      "execution_count": 6,
      "outputs": [
        {
          "output_type": "execute_result",
          "data": {
            "text/plain": [
              "torch.Size([32, 3, 32, 32])"
            ]
          },
          "metadata": {
            "tags": []
          },
          "execution_count": 6
        }
      ]
    },
    {
      "cell_type": "code",
      "metadata": {
        "id": "olAnjSdn1hbc",
        "colab": {
          "base_uri": "https://localhost:8080/"
        },
        "outputId": "61719f6a-45d5-45bc-de6a-3c7a94afc177"
      },
      "source": [
        "class AutoEncoder(nn.Module):\n",
        "    def __init__(self):\n",
        "        super().__init__()\n",
        "        self.encoder = Encoder()\n",
        "        self.decoder = Decoder()\n",
        "    def forward(self, x):\n",
        "        x = self.encoder(x)\n",
        "        x = self.decoder(x)\n",
        "        return x\n",
        "\n",
        "autoenc = AutoEncoder()\n",
        "autoenc(images).shape"
      ],
      "execution_count": 7,
      "outputs": [
        {
          "output_type": "execute_result",
          "data": {
            "text/plain": [
              "torch.Size([32, 3, 32, 32])"
            ]
          },
          "metadata": {
            "tags": []
          },
          "execution_count": 7
        }
      ]
    },
    {
      "cell_type": "code",
      "metadata": {
        "colab": {
          "base_uri": "https://localhost:8080/"
        },
        "id": "S5gmDOQPlgT2",
        "outputId": "54d1dfea-690e-41aa-b8a8-5fe02233c7ab"
      },
      "source": [
        "model = AutoEncoder()\n",
        "model"
      ],
      "execution_count": 8,
      "outputs": [
        {
          "output_type": "execute_result",
          "data": {
            "text/plain": [
              "AutoEncoder(\n",
              "  (encoder): Encoder(\n",
              "    (pool): MaxPool2d(kernel_size=2, stride=2, padding=0, dilation=1, ceil_mode=False)\n",
              "    (drop): Dropout(p=0.2, inplace=False)\n",
              "    (conv1): Conv2d(3, 12, kernel_size=(4, 4), stride=(2, 2), padding=(1, 1))\n",
              "    (conv2): Conv2d(12, 24, kernel_size=(4, 4), stride=(2, 2), padding=(1, 1))\n",
              "    (conv3): Conv2d(24, 48, kernel_size=(4, 4), stride=(2, 2), padding=(1, 1))\n",
              "  )\n",
              "  (decoder): Decoder(\n",
              "    (drop): Dropout(p=0.2, inplace=False)\n",
              "    (conv1): ConvTranspose2d(48, 24, kernel_size=(4, 4), stride=(2, 2), padding=(1, 1))\n",
              "    (conv2): ConvTranspose2d(24, 12, kernel_size=(4, 4), stride=(2, 2), padding=(1, 1))\n",
              "    (conv3): ConvTranspose2d(12, 3, kernel_size=(4, 4), stride=(2, 2), padding=(1, 1))\n",
              "  )\n",
              ")"
            ]
          },
          "metadata": {
            "tags": []
          },
          "execution_count": 8
        }
      ]
    },
    {
      "cell_type": "code",
      "metadata": {
        "colab": {
          "base_uri": "https://localhost:8080/"
        },
        "id": "-a4vwmDkyLyo",
        "outputId": "dab3f651-f451-47be-e6c5-cf8ce5834341"
      },
      "source": [
        "criterion = nn.MSELoss()\r\n",
        "optimizer = optim.SGD(params=model.parameters(), lr=0.001)\r\n",
        "noise_factor=0.5\r\n",
        "epochs = 10\r\n",
        "\r\n",
        "device = torch.device(\"cuda\" if torch.cuda.is_available() else \"cpu\")\r\n",
        "model.to(device)\r\n",
        "\r\n",
        "print(device)\r\n",
        "\r\n",
        "lowest_testloss = np.Inf\r\n",
        "\r\n",
        "for epoch in range(epochs):\r\n",
        "\r\n",
        "    # training\r\n",
        "    trainloss = 0\r\n",
        "    for images, labels in trainloader:\r\n",
        "        noisy_imgs = images + noise_factor * torch.randn(*images.shape)\r\n",
        "        images = images.to(device)\r\n",
        "        noisy_imgs, labels = noisy_imgs.to(device), labels.to(device)\r\n",
        "        ## add random noise to the input images\r\n",
        "\r\n",
        "        optimizer.zero_grad()\r\n",
        "        out = model(noisy_imgs)\r\n",
        "        loss = criterion(out, images)\r\n",
        "        loss.backward()\r\n",
        "        optimizer.step()\r\n",
        "        trainloss += loss.item()\r\n",
        "    print(f\"Epoch {epoch}, Training loss: {trainloss}\")\r\n",
        "\r\n",
        "    # validation\r\n",
        "    testloss = 0\r\n",
        "    for images, labels in testloader:\r\n",
        "        noisy_imgs = images + noise_factor * torch.randn(*images.shape)\r\n",
        "        noisy_imgs = noisy_imgs.to(device)          \r\n",
        "        images, labels = images.to(device), labels.to(device)\r\n",
        "        ## add random noise to the input images\r\n",
        "        with torch.no_grad():\r\n",
        "\r\n",
        "            out = model(noisy_imgs)\r\n",
        "            loss = criterion(out, images)\r\n",
        "            testloss += loss\r\n",
        "    print(f\"Epoch {epoch}, Validation loss: {testloss}\")\r\n",
        "    lowest_testloss = testloss\r\n",
        "\r\n"
      ],
      "execution_count": 27,
      "outputs": [
        {
          "output_type": "stream",
          "text": [
            "cuda\n",
            "Epoch 0, Training loss: 234.73477029055357\n",
            "Epoch 0, Validation loss: 234.66812133789062\n",
            "Epoch 1, Training loss: 234.62600667774677\n",
            "Epoch 1, Validation loss: 234.60928344726562\n",
            "Epoch 2, Training loss: 234.5856560021639\n",
            "Epoch 2, Validation loss: 234.60446166992188\n",
            "Epoch 3, Training loss: 234.57367624342442\n",
            "Epoch 3, Validation loss: 234.56484985351562\n",
            "Epoch 4, Training loss: 234.59567242115736\n",
            "Epoch 4, Validation loss: 234.5760955810547\n",
            "Epoch 5, Training loss: 234.55561847239733\n",
            "Epoch 5, Validation loss: 234.5569305419922\n",
            "Epoch 6, Training loss: 234.56597433239222\n",
            "Epoch 6, Validation loss: 234.56304931640625\n",
            "Epoch 7, Training loss: 234.5592384338379\n",
            "Epoch 7, Validation loss: 234.5471649169922\n",
            "Epoch 8, Training loss: 234.54153583198786\n",
            "Epoch 8, Validation loss: 234.52801513671875\n",
            "Epoch 9, Training loss: 234.53808915615082\n",
            "Epoch 9, Validation loss: 234.56930541992188\n"
          ],
          "name": "stdout"
        }
      ]
    },
    {
      "cell_type": "code",
      "metadata": {
        "id": "H2bf823vph6d"
      },
      "source": [
        "torch.save(model.state_dict(), 'denoise.model')"
      ],
      "execution_count": 28,
      "outputs": []
    },
    {
      "cell_type": "code",
      "metadata": {
        "id": "b9sRBJ2GM_XR",
        "colab": {
          "base_uri": "https://localhost:8080/"
        },
        "outputId": "65ea4002-8245-42ee-98dc-0b1f15b242ba"
      },
      "source": [
        "state_dict = torch.load(\"denoise.model\")\n",
        "model.load_state_dict(state_dict)"
      ],
      "execution_count": 29,
      "outputs": [
        {
          "output_type": "execute_result",
          "data": {
            "text/plain": [
              "<All keys matched successfully>"
            ]
          },
          "metadata": {
            "tags": []
          },
          "execution_count": 29
        }
      ]
    },
    {
      "cell_type": "code",
      "metadata": {
        "colab": {
          "base_uri": "https://localhost:8080/",
          "height": 283
        },
        "id": "XHelwHEU1OIe",
        "outputId": "467a0b37-6853-4ce7-c459-b53277197881"
      },
      "source": [
        "# obtain one batch of test images\r\n",
        "dataiter = iter(testloader)\r\n",
        "images, labels = dataiter.next()\r\n",
        "\r\n",
        "# add noise to the test images\r\n",
        "noisy_imgs = images + noise_factor * torch.randn(*images.shape)\r\n",
        "\r\n",
        "# get sample outputs\r\n",
        "cpumodel = model.cpu()\r\n",
        "out = cpumodel(noisy_imgs)\r\n",
        "showimage(torchvision.utils.make_grid(noisy_imgs[0]))"
      ],
      "execution_count": 30,
      "outputs": [
        {
          "output_type": "stream",
          "text": [
            "Clipping input data to the valid range for imshow with RGB data ([0..1] for floats or [0..255] for integers).\n"
          ],
          "name": "stderr"
        },
        {
          "output_type": "display_data",
          "data": {
            "image/png": "[encoded data removed]",
            "text/plain": [
              "<Figure size 432x288 with 1 Axes>"
            ]
          },
          "metadata": {
            "tags": [],
            "needs_background": "light"
          }
        }
      ]
    },
    {
      "cell_type": "code",
      "metadata": {
        "colab": {
          "base_uri": "https://localhost:8080/",
          "height": 266
        },
        "id": "sRKwnrMm1Tza",
        "outputId": "a4f31172-b32b-4c04-8eae-28c694570cdd"
      },
      "source": [
        "# output na denoising\r\n",
        "showimage(torchvision.utils.make_grid(out[0]))\r\n"
      ],
      "execution_count": 31,
      "outputs": [
        {
          "output_type": "display_data",
          "data": {
            "image/png": "[encoded data removed]",
            "text/plain": [
              "<Figure size 432x288 with 1 Axes>"
            ]
          },
          "metadata": {
            "tags": [],
            "needs_background": "light"
          }
        }
      ]
    },
    {
      "cell_type": "code",
      "metadata": {
        "colab": {
          "base_uri": "https://localhost:8080/",
          "height": 283
        },
        "id": "tcpkExW419kx",
        "outputId": "7cf97804-7768-4a32-8591-7fe0bdb4a0e5"
      },
      "source": [
        "# originele image\r\n",
        "showimage(torchvision.utils.make_grid(images[0]))\r\n"
      ],
      "execution_count": 32,
      "outputs": [
        {
          "output_type": "stream",
          "text": [
            "Clipping input data to the valid range for imshow with RGB data ([0..1] for floats or [0..255] for integers).\n"
          ],
          "name": "stderr"
        },
        {
          "output_type": "display_data",
          "data": {
            "image/png": "[encoded data removed]",
            "text/plain": [
              "<Figure size 432x288 with 1 Axes>"
            ]
          },
          "metadata": {
            "tags": [],
            "needs_background": "light"
          }
        }
      ]
    }
  ]
}