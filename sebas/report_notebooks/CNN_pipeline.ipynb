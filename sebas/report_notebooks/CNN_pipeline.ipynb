{
  "nbformat": 4,
  "nbformat_minor": 0,
  "metadata": {
    "accelerator": "GPU",
    "colab": {
      "name": "CifarModel2.ipynb",
      "provenance": [],
      "collapsed_sections": [],
      "include_colab_link": true
    },
    "kernelspec": {
      "display_name": "Python 3",
      "name": "python3"
    },
    "widgets": {
      "application/vnd.jupyter.widget-state+json": {
        "9d685fbef62e409490e830290b630c15": {
          "model_module": "@jupyter-widgets/controls",
          "model_name": "HBoxModel",
          "state": {
            "_view_name": "HBoxView",
            "_dom_classes": [],
            "_model_name": "HBoxModel",
            "_view_module": "@jupyter-widgets/controls",
            "_model_module_version": "1.5.0",
            "_view_count": null,
            "_view_module_version": "1.5.0",
            "box_style": "",
            "layout": "IPY_MODEL_0cbeeec16000486f853fa29ff16d6813",
            "_model_module": "@jupyter-widgets/controls",
            "children": [
              "IPY_MODEL_990799093803409881c99b31185443fe",
              "IPY_MODEL_607f17b385f946c59b4c51c959cbe8cf"
            ]
          }
        },
        "0cbeeec16000486f853fa29ff16d6813": {
          "model_module": "@jupyter-widgets/base",
          "model_name": "LayoutModel",
          "state": {
            "_view_name": "LayoutView",
            "grid_template_rows": null,
            "right": null,
            "justify_content": null,
            "_view_module": "@jupyter-widgets/base",
            "overflow": null,
            "_model_module_version": "1.2.0",
            "_view_count": null,
            "flex_flow": null,
            "width": null,
            "min_width": null,
            "border": null,
            "align_items": null,
            "bottom": null,
            "_model_module": "@jupyter-widgets/base",
            "top": null,
            "grid_column": null,
            "overflow_y": null,
            "overflow_x": null,
            "grid_auto_flow": null,
            "grid_area": null,
            "grid_template_columns": null,
            "flex": null,
            "_model_name": "LayoutModel",
            "justify_items": null,
            "grid_row": null,
            "max_height": null,
            "align_content": null,
            "visibility": null,
            "align_self": null,
            "height": null,
            "min_height": null,
            "padding": null,
            "grid_auto_rows": null,
            "grid_gap": null,
            "max_width": null,
            "order": null,
            "_view_module_version": "1.2.0",
            "grid_template_areas": null,
            "object_position": null,
            "object_fit": null,
            "grid_auto_columns": null,
            "margin": null,
            "display": null,
            "left": null
          }
        },
        "990799093803409881c99b31185443fe": {
          "model_module": "@jupyter-widgets/controls",
          "model_name": "FloatProgressModel",
          "state": {
            "_view_name": "ProgressView",
            "style": "IPY_MODEL_36786b2f7d5944dfb48426e77b0d2f00",
            "_dom_classes": [],
            "description": "",
            "_model_name": "FloatProgressModel",
            "bar_style": "info",
            "max": 1,
            "_view_module": "@jupyter-widgets/controls",
            "_model_module_version": "1.5.0",
            "value": 1,
            "_view_count": null,
            "_view_module_version": "1.5.0",
            "orientation": "horizontal",
            "min": 0,
            "description_tooltip": null,
            "_model_module": "@jupyter-widgets/controls",
            "layout": "IPY_MODEL_821a9c08ce3840078f9216064cbdcce0"
          }
        },
        "607f17b385f946c59b4c51c959cbe8cf": {
          "model_module": "@jupyter-widgets/controls",
          "model_name": "HTMLModel",
          "state": {
            "_view_name": "HTMLView",
            "style": "IPY_MODEL_e9afd0aba87941048f758e1c5b9069cd",
            "_dom_classes": [],
            "description": "",
            "_model_name": "HTMLModel",
            "placeholder": "​",
            "_view_module": "@jupyter-widgets/controls",
            "_model_module_version": "1.5.0",
            "value": " 170500096/? [00:20&lt;00:00, 90174984.85it/s]",
            "_view_count": null,
            "_view_module_version": "1.5.0",
            "description_tooltip": null,
            "_model_module": "@jupyter-widgets/controls",
            "layout": "IPY_MODEL_82f8a7a1caa4455b9cc6c3831b98cd5c"
          }
        },
        "36786b2f7d5944dfb48426e77b0d2f00": {
          "model_module": "@jupyter-widgets/controls",
          "model_name": "ProgressStyleModel",
          "state": {
            "_view_name": "StyleView",
            "_model_name": "ProgressStyleModel",
            "description_width": "initial",
            "_view_module": "@jupyter-widgets/base",
            "_model_module_version": "1.5.0",
            "_view_count": null,
            "_view_module_version": "1.2.0",
            "bar_color": null,
            "_model_module": "@jupyter-widgets/controls"
          }
        },
        "821a9c08ce3840078f9216064cbdcce0": {
          "model_module": "@jupyter-widgets/base",
          "model_name": "LayoutModel",
          "state": {
            "_view_name": "LayoutView",
            "grid_template_rows": null,
            "right": null,
            "justify_content": null,
            "_view_module": "@jupyter-widgets/base",
            "overflow": null,
            "_model_module_version": "1.2.0",
            "_view_count": null,
            "flex_flow": null,
            "width": null,
            "min_width": null,
            "border": null,
            "align_items": null,
            "bottom": null,
            "_model_module": "@jupyter-widgets/base",
            "top": null,
            "grid_column": null,
            "overflow_y": null,
            "overflow_x": null,
            "grid_auto_flow": null,
            "grid_area": null,
            "grid_template_columns": null,
            "flex": null,
            "_model_name": "LayoutModel",
            "justify_items": null,
            "grid_row": null,
            "max_height": null,
            "align_content": null,
            "visibility": null,
            "align_self": null,
            "height": null,
            "min_height": null,
            "padding": null,
            "grid_auto_rows": null,
            "grid_gap": null,
            "max_width": null,
            "order": null,
            "_view_module_version": "1.2.0",
            "grid_template_areas": null,
            "object_position": null,
            "object_fit": null,
            "grid_auto_columns": null,
            "margin": null,
            "display": null,
            "left": null
          }
        },
        "e9afd0aba87941048f758e1c5b9069cd": {
          "model_module": "@jupyter-widgets/controls",
          "model_name": "DescriptionStyleModel",
          "state": {
            "_view_name": "StyleView",
            "_model_name": "DescriptionStyleModel",
            "description_width": "",
            "_view_module": "@jupyter-widgets/base",
            "_model_module_version": "1.5.0",
            "_view_count": null,
            "_view_module_version": "1.2.0",
            "_model_module": "@jupyter-widgets/controls"
          }
        },
        "82f8a7a1caa4455b9cc6c3831b98cd5c": {
          "model_module": "@jupyter-widgets/base",
          "model_name": "LayoutModel",
          "state": {
            "_view_name": "LayoutView",
            "grid_template_rows": null,
            "right": null,
            "justify_content": null,
            "_view_module": "@jupyter-widgets/base",
            "overflow": null,
            "_model_module_version": "1.2.0",
            "_view_count": null,
            "flex_flow": null,
            "width": null,
            "min_width": null,
            "border": null,
            "align_items": null,
            "bottom": null,
            "_model_module": "@jupyter-widgets/base",
            "top": null,
            "grid_column": null,
            "overflow_y": null,
            "overflow_x": null,
            "grid_auto_flow": null,
            "grid_area": null,
            "grid_template_columns": null,
            "flex": null,
            "_model_name": "LayoutModel",
            "justify_items": null,
            "grid_row": null,
            "max_height": null,
            "align_content": null,
            "visibility": null,
            "align_self": null,
            "height": null,
            "min_height": null,
            "padding": null,
            "grid_auto_rows": null,
            "grid_gap": null,
            "max_width": null,
            "order": null,
            "_view_module_version": "1.2.0",
            "grid_template_areas": null,
            "object_position": null,
            "object_fit": null,
            "grid_auto_columns": null,
            "margin": null,
            "display": null,
            "left": null
          }
        },
        "f5b2479f125a463eb3095b477c41cf50": {
          "model_module": "@jupyter-widgets/controls",
          "model_name": "HBoxModel",
          "state": {
            "_view_name": "HBoxView",
            "_dom_classes": [],
            "_model_name": "HBoxModel",
            "_view_module": "@jupyter-widgets/controls",
            "_model_module_version": "1.5.0",
            "_view_count": null,
            "_view_module_version": "1.5.0",
            "box_style": "",
            "layout": "IPY_MODEL_2c7850fa0e004717bbf1699b74549d65",
            "_model_module": "@jupyter-widgets/controls",
            "children": [
              "IPY_MODEL_362d4fcfa7504825b2231819e51e3d2c",
              "IPY_MODEL_5a657c88ee154e99b6bf71975ffe80f7"
            ]
          }
        },
        "2c7850fa0e004717bbf1699b74549d65": {
          "model_module": "@jupyter-widgets/base",
          "model_name": "LayoutModel",
          "state": {
            "_view_name": "LayoutView",
            "grid_template_rows": null,
            "right": null,
            "justify_content": null,
            "_view_module": "@jupyter-widgets/base",
            "overflow": null,
            "_model_module_version": "1.2.0",
            "_view_count": null,
            "flex_flow": null,
            "width": null,
            "min_width": null,
            "border": null,
            "align_items": null,
            "bottom": null,
            "_model_module": "@jupyter-widgets/base",
            "top": null,
            "grid_column": null,
            "overflow_y": null,
            "overflow_x": null,
            "grid_auto_flow": null,
            "grid_area": null,
            "grid_template_columns": null,
            "flex": null,
            "_model_name": "LayoutModel",
            "justify_items": null,
            "grid_row": null,
            "max_height": null,
            "align_content": null,
            "visibility": null,
            "align_self": null,
            "height": null,
            "min_height": null,
            "padding": null,
            "grid_auto_rows": null,
            "grid_gap": null,
            "max_width": null,
            "order": null,
            "_view_module_version": "1.2.0",
            "grid_template_areas": null,
            "object_position": null,
            "object_fit": null,
            "grid_auto_columns": null,
            "margin": null,
            "display": null,
            "left": null
          }
        },
        "362d4fcfa7504825b2231819e51e3d2c": {
          "model_module": "@jupyter-widgets/controls",
          "model_name": "FloatProgressModel",
          "state": {
            "_view_name": "ProgressView",
            "style": "IPY_MODEL_ec86b731267542b0ace0aed6d70b3d8d",
            "_dom_classes": [],
            "description": "",
            "_model_name": "FloatProgressModel",
            "bar_style": "success",
            "max": 1,
            "_view_module": "@jupyter-widgets/controls",
            "_model_module_version": "1.5.0",
            "value": 1,
            "_view_count": null,
            "_view_module_version": "1.5.0",
            "orientation": "horizontal",
            "min": 0,
            "description_tooltip": null,
            "_model_module": "@jupyter-widgets/controls",
            "layout": "IPY_MODEL_106b5a5c45ff478986d8ecea4a5a9866"
          }
        },
        "5a657c88ee154e99b6bf71975ffe80f7": {
          "model_module": "@jupyter-widgets/controls",
          "model_name": "HTMLModel",
          "state": {
            "_view_name": "HTMLView",
            "style": "IPY_MODEL_4a62b86b78344f77ad3e4b9b0ab43c8f",
            "_dom_classes": [],
            "description": "",
            "_model_name": "HTMLModel",
            "placeholder": "​",
            "_view_module": "@jupyter-widgets/controls",
            "_model_module_version": "1.5.0",
            "value": " 170500096/? [00:05&lt;00:00, 33676249.49it/s]",
            "_view_count": null,
            "_view_module_version": "1.5.0",
            "description_tooltip": null,
            "_model_module": "@jupyter-widgets/controls",
            "layout": "IPY_MODEL_1a77403c86d84d638096e0d3fe54781d"
          }
        },
        "ec86b731267542b0ace0aed6d70b3d8d": {
          "model_module": "@jupyter-widgets/controls",
          "model_name": "ProgressStyleModel",
          "state": {
            "_view_name": "StyleView",
            "_model_name": "ProgressStyleModel",
            "description_width": "initial",
            "_view_module": "@jupyter-widgets/base",
            "_model_module_version": "1.5.0",
            "_view_count": null,
            "_view_module_version": "1.2.0",
            "bar_color": null,
            "_model_module": "@jupyter-widgets/controls"
          }
        },
        "106b5a5c45ff478986d8ecea4a5a9866": {
          "model_module": "@jupyter-widgets/base",
          "model_name": "LayoutModel",
          "state": {
            "_view_name": "LayoutView",
            "grid_template_rows": null,
            "right": null,
            "justify_content": null,
            "_view_module": "@jupyter-widgets/base",
            "overflow": null,
            "_model_module_version": "1.2.0",
            "_view_count": null,
            "flex_flow": null,
            "width": null,
            "min_width": null,
            "border": null,
            "align_items": null,
            "bottom": null,
            "_model_module": "@jupyter-widgets/base",
            "top": null,
            "grid_column": null,
            "overflow_y": null,
            "overflow_x": null,
            "grid_auto_flow": null,
            "grid_area": null,
            "grid_template_columns": null,
            "flex": null,
            "_model_name": "LayoutModel",
            "justify_items": null,
            "grid_row": null,
            "max_height": null,
            "align_content": null,
            "visibility": null,
            "align_self": null,
            "height": null,
            "min_height": null,
            "padding": null,
            "grid_auto_rows": null,
            "grid_gap": null,
            "max_width": null,
            "order": null,
            "_view_module_version": "1.2.0",
            "grid_template_areas": null,
            "object_position": null,
            "object_fit": null,
            "grid_auto_columns": null,
            "margin": null,
            "display": null,
            "left": null
          }
        },
        "4a62b86b78344f77ad3e4b9b0ab43c8f": {
          "model_module": "@jupyter-widgets/controls",
          "model_name": "DescriptionStyleModel",
          "state": {
            "_view_name": "StyleView",
            "_model_name": "DescriptionStyleModel",
            "description_width": "",
            "_view_module": "@jupyter-widgets/base",
            "_model_module_version": "1.5.0",
            "_view_count": null,
            "_view_module_version": "1.2.0",
            "_model_module": "@jupyter-widgets/controls"
          }
        },
        "1a77403c86d84d638096e0d3fe54781d": {
          "model_module": "@jupyter-widgets/base",
          "model_name": "LayoutModel",
          "state": {
            "_view_name": "LayoutView",
            "grid_template_rows": null,
            "right": null,
            "justify_content": null,
            "_view_module": "@jupyter-widgets/base",
            "overflow": null,
            "_model_module_version": "1.2.0",
            "_view_count": null,
            "flex_flow": null,
            "width": null,
            "min_width": null,
            "border": null,
            "align_items": null,
            "bottom": null,
            "_model_module": "@jupyter-widgets/base",
            "top": null,
            "grid_column": null,
            "overflow_y": null,
            "overflow_x": null,
            "grid_auto_flow": null,
            "grid_area": null,
            "grid_template_columns": null,
            "flex": null,
            "_model_name": "LayoutModel",
            "justify_items": null,
            "grid_row": null,
            "max_height": null,
            "align_content": null,
            "visibility": null,
            "align_self": null,
            "height": null,
            "min_height": null,
            "padding": null,
            "grid_auto_rows": null,
            "grid_gap": null,
            "max_width": null,
            "order": null,
            "_view_module_version": "1.2.0",
            "grid_template_areas": null,
            "object_position": null,
            "object_fit": null,
            "grid_auto_columns": null,
            "margin": null,
            "display": null,
            "left": null
          }
        }
      }
    }
  },
  "cells": [
    {
      "cell_type": "markdown",
      "metadata": {
        "id": "view-in-github",
        "colab_type": "text"
      },
      "source": [
        "<a href=\"https://colab.research.google.com/github/pvdklei/modelsmakemodels/blob/master/sebas/report_notebooks/CNN_pipeline.ipynb\" target=\"_parent\"><img src=\"https://colab.research.google.com/assets/colab-badge.svg\" alt=\"Open In Colab\"/></a>"
      ]
    },
    {
      "cell_type": "code",
      "metadata": {
        "id": "qnWwYxs2kjqa"
      },
      "source": [
        "# import libraries and packages\n",
        "\n",
        "import torch\n",
        "from torch import nn, optim\n",
        "import torch.nn.functional as F\n",
        "import torchvision\n",
        "from torchvision import datasets, transforms\n",
        "from torch.utils.data import DataLoader\n",
        "import tensorflow as tf\n",
        "import tensorboard as tb\n",
        "import visual_tools as vt\n",
        "import utils\n",
        "import matplotlib.pyplot as plt\n",
        "import numpy as np\n",
        "import time"
      ],
      "execution_count": null,
      "outputs": []
    },
    {
      "cell_type": "code",
      "metadata": {
        "id": "TmFeC-YFlSjK"
      },
      "source": [
        "# define image loader\n",
        "\n",
        "def loaders():\n",
        "    traintransform = transforms.Compose([transforms.ToTensor(),\n",
        "                                         transforms.Resize(128),\n",
        "                                        transforms.RandomHorizontalFlip(),\n",
        "                                        transforms.Normalize((0.5, 0.5, 0.5), (0.5, 0.5, 0.5))])\n",
        "\n",
        "    testtransform = transforms.Compose([transforms.ToTensor(),\n",
        "                                        transforms.Resize(128),\n",
        "                                        transforms.Normalize((0.5, 0.5, 0.5), (0.5, 0.5, 0.5))])\n",
        "\n",
        "    batch_size = 32\n",
        "    num_workers = 2\n",
        "\n",
        "    trainset = datasets.CIFAR10(\"/data/cifar10/train\", train=True, transform=traintransform, download=True)\n",
        "    trainloader = DataLoader(trainset, batch_size=batch_size, shuffle=True, num_workers=num_workers)\n",
        "\n",
        "    testset = datasets.CIFAR10(\"/data/cifar10/test\", train=False, transform=testtransform, download=True)\n",
        "    testloader = DataLoader(testset, batch_size=batch_size, shuffle=True, num_workers=num_workers)\n",
        "    return trainloader, testloader"
      ],
      "execution_count": null,
      "outputs": []
    },
    {
      "cell_type": "code",
      "metadata": {
        "colab": {
          "base_uri": "https://localhost:8080/",
          "height": 901,
          "referenced_widgets": [
            "9d685fbef62e409490e830290b630c15",
            "0cbeeec16000486f853fa29ff16d6813",
            "990799093803409881c99b31185443fe",
            "607f17b385f946c59b4c51c959cbe8cf",
            "36786b2f7d5944dfb48426e77b0d2f00",
            "821a9c08ce3840078f9216064cbdcce0",
            "e9afd0aba87941048f758e1c5b9069cd",
            "82f8a7a1caa4455b9cc6c3831b98cd5c",
            "f5b2479f125a463eb3095b477c41cf50",
            "2c7850fa0e004717bbf1699b74549d65",
            "362d4fcfa7504825b2231819e51e3d2c",
            "5a657c88ee154e99b6bf71975ffe80f7",
            "ec86b731267542b0ace0aed6d70b3d8d",
            "106b5a5c45ff478986d8ecea4a5a9866",
            "4a62b86b78344f77ad3e4b9b0ab43c8f",
            "1a77403c86d84d638096e0d3fe54781d"
          ]
        },
        "id": "7U8IG91NnnqG",
        "outputId": "53b09701-e0c0-4b48-a277-b02c1403a364"
      },
      "source": [
        "# visualize data\n",
        "\n",
        "trainloader, _ = loaders()\n",
        "images, labels = next(iter(trainloader))\n",
        "vt.show_image(images[0])"
      ],
      "execution_count": null,
      "outputs": [
        {
          "output_type": "stream",
          "text": [
            "Downloading https://www.cs.toronto.edu/~kriz/cifar-10-python.tar.gz to /data/cifar10/train/cifar-10-python.tar.gz\n"
          ],
          "name": "stdout"
        },
        {
          "output_type": "display_data",
          "data": {
            "application/vnd.jupyter.widget-view+json": {
              "model_id": "9d685fbef62e409490e830290b630c15",
              "version_minor": 0,
              "version_major": 2
            },
            "text/plain": [
              "HBox(children=(FloatProgress(value=1.0, bar_style='info', max=1.0), HTML(value='')))"
            ]
          },
          "metadata": {
            "tags": []
          }
        },
        {
          "output_type": "stream",
          "text": [
            "Extracting /data/cifar10/train/cifar-10-python.tar.gz to /data/cifar10/train\n",
            "Downloading https://www.cs.toronto.edu/~kriz/cifar-10-python.tar.gz to /data/cifar10/test/cifar-10-python.tar.gz\n"
          ],
          "name": "stdout"
        },
        {
          "output_type": "display_data",
          "data": {
            "application/vnd.jupyter.widget-view+json": {
              "model_id": "f5b2479f125a463eb3095b477c41cf50",
              "version_minor": 0,
              "version_major": 2
            },
            "text/plain": [
              "HBox(children=(FloatProgress(value=1.0, bar_style='info', max=1.0), HTML(value='')))"
            ]
          },
          "metadata": {
            "tags": []
          }
        },
        {
          "output_type": "stream",
          "text": [
            "Extracting /data/cifar10/test/cifar-10-python.tar.gz to /data/cifar10/test\n",
            "\n",
            "\n"
          ],
          "name": "stdout"
        },
        {
          "output_type": "stream",
          "text": [
            "Clipping input data to the valid range for imshow with RGB data ([0..1] for floats or [0..255] for integers).\n"
          ],
          "name": "stderr"
        },
        {
          "output_type": "stream",
          "text": [
            "\n"
          ],
          "name": "stdout"
        },
        {
          "output_type": "display_data",
          "data": {
            "image/png": "[encoded data removed]",
            "text/plain": [
              "<Figure size 864x864 with 1 Axes>"
            ]
          },
          "metadata": {
            "tags": [],
            "needs_background": "light"
          }
        }
      ]
    },
    {
      "cell_type": "code",
      "metadata": {
        "colab": {
          "base_uri": "https://localhost:8080/"
        },
        "id": "ePIvBEuMq5uI",
        "outputId": "4aff6744-38a5-4f08-f008-979735a55119"
      },
      "source": [
        "# Make an autoencoder with 3 convolutions, a kernel size of 4 and a stride of 1\n",
        "\n",
        "class MyModel1(nn.Module):\n",
        "    def __init__(self):\n",
        "        super().__init__()\n",
        "        self.conv1 = nn.Conv2d(3, 8, kernel_size=4, stride=1, padding=1)\n",
        "        self.conv2 = nn.Conv2d(8, 32, kernel_size=4, stride=1, padding=1)\n",
        "        self.conv3 = nn.Conv2d(32, 64, kernel_size=4, stride=1, padding=1)\n",
        "        self.fc1 = nn.Linear(14400, 256)\n",
        "        self.fc2 = nn.Linear(256, 128)\n",
        "        self.fc3 = nn.Linear(128, 10)\n",
        "        self.pool = nn.MaxPool2d(2, 2)\n",
        "        self.drop = nn.Dropout(p=0.2)\n",
        "\n",
        "    \n",
        "    def forward(self, x):\n",
        "        x = self.pool(F.relu(self.conv1(x)))\n",
        "        x = self.drop(x)\n",
        "        x = self.pool(F.relu(self.conv2(x)))\n",
        "        x = self.drop(x)\n",
        "        x = self.pool(F.relu(self.conv3(x)))\n",
        "        x = x.view(x.shape[0], -1)\n",
        "        x = F.relu(self.fc1(x))\n",
        "        x = F.relu(self.fc2(x))\n",
        "        x = self.fc3(x)\n",
        "        return x\n",
        "\n",
        "model1 = MyModel1()\n",
        "model1(images).shape"
      ],
      "execution_count": null,
      "outputs": [
        {
          "output_type": "execute_result",
          "data": {
            "text/plain": [
              "torch.Size([32, 10])"
            ]
          },
          "metadata": {
            "tags": []
          },
          "execution_count": 22
        }
      ]
    },
    {
      "cell_type": "code",
      "metadata": {
        "colab": {
          "base_uri": "https://localhost:8080/",
          "height": 337
        },
        "id": "rrw8OYDV7IT2",
        "outputId": "1ee29117-97cb-42e9-d6d5-0e7f43f4b731"
      },
      "source": [
        "# # Make an autoencoder with 3 convolutions, a kernel size of 8 and a stride of 1\r\n",
        "\r\n",
        "class MyModel2(nn.Module):\r\n",
        "    def __init__(self):\r\n",
        "        super().__init__()\r\n",
        "        self.conv1 = nn.Conv2d(3, 8, kernel_size=8, stride=1, padding=1)\r\n",
        "        self.conv2 = nn.Conv2d(8, 32, kernel_size=8, stride=1, padding=1)\r\n",
        "        self.conv3 = nn.Conv2d(32, 64, kernel_size=8, stride=1, padding=1)\r\n",
        "        self.fc1 = nn.Linear(256, 256)\r\n",
        "        self.fc2 = nn.Linear(256, 128)\r\n",
        "        self.fc3 = nn.Linear(128, 10)\r\n",
        "        self.pool = nn.MaxPool2d(2, 2)\r\n",
        "        self.drop = nn.Dropout(p=0.2)\r\n",
        "    \r\n",
        "    def forward(self, x):\r\n",
        "        x = self.pool(F.relu(self.conv1(x)))\r\n",
        "        x = self.drop(x)\r\n",
        "        x = self.pool(F.relu(self.conv2(x)))\r\n",
        "        x = self.drop(x)\r\n",
        "        x = self.pool(F.relu(self.conv3(x)))\r\n",
        "        x = x.view(x.shape[0], -1)\r\n",
        "        x = F.relu(self.fc1(x))\r\n",
        "        x = F.relu(self.fc2(x))\r\n",
        "        x = self.fc3(x)\r\n",
        "        return x\r\n",
        "\r\n",
        "model2 = MyModel2()\r\n",
        "model2(images).shape"
      ],
      "execution_count": null,
      "outputs": [
        {
          "output_type": "error",
          "ename": "RuntimeError",
          "evalue": "ignored",
          "traceback": [
            "\u001b[0;31m---------------------------------------------------------------------------\u001b[0m",
            "\u001b[0;31mRuntimeError\u001b[0m                              Traceback (most recent call last)",
            "\u001b[0;32m<ipython-input-20-be4cdcf5416f>\u001b[0m in \u001b[0;36m<module>\u001b[0;34m()\u001b[0m\n\u001b[1;32m     25\u001b[0m \u001b[0;34m\u001b[0m\u001b[0m\n\u001b[1;32m     26\u001b[0m \u001b[0mmodel2\u001b[0m \u001b[0;34m=\u001b[0m \u001b[0mMyModel2\u001b[0m\u001b[0;34m(\u001b[0m\u001b[0;34m)\u001b[0m\u001b[0;34m\u001b[0m\u001b[0;34m\u001b[0m\u001b[0m\n\u001b[0;32m---> 27\u001b[0;31m \u001b[0mmodel2\u001b[0m\u001b[0;34m(\u001b[0m\u001b[0mimages\u001b[0m\u001b[0;34m)\u001b[0m\u001b[0;34m.\u001b[0m\u001b[0mshape\u001b[0m\u001b[0;34m\u001b[0m\u001b[0;34m\u001b[0m\u001b[0m\n\u001b[0m",
            "\u001b[0;32m/usr/local/lib/python3.6/dist-packages/torch/nn/modules/module.py\u001b[0m in \u001b[0;36m_call_impl\u001b[0;34m(self, *input, **kwargs)\u001b[0m\n\u001b[1;32m    725\u001b[0m             \u001b[0mresult\u001b[0m \u001b[0;34m=\u001b[0m \u001b[0mself\u001b[0m\u001b[0;34m.\u001b[0m\u001b[0m_slow_forward\u001b[0m\u001b[0;34m(\u001b[0m\u001b[0;34m*\u001b[0m\u001b[0minput\u001b[0m\u001b[0;34m,\u001b[0m \u001b[0;34m**\u001b[0m\u001b[0mkwargs\u001b[0m\u001b[0;34m)\u001b[0m\u001b[0;34m\u001b[0m\u001b[0;34m\u001b[0m\u001b[0m\n\u001b[1;32m    726\u001b[0m         \u001b[0;32melse\u001b[0m\u001b[0;34m:\u001b[0m\u001b[0;34m\u001b[0m\u001b[0;34m\u001b[0m\u001b[0m\n\u001b[0;32m--> 727\u001b[0;31m             \u001b[0mresult\u001b[0m \u001b[0;34m=\u001b[0m \u001b[0mself\u001b[0m\u001b[0;34m.\u001b[0m\u001b[0mforward\u001b[0m\u001b[0;34m(\u001b[0m\u001b[0;34m*\u001b[0m\u001b[0minput\u001b[0m\u001b[0;34m,\u001b[0m \u001b[0;34m**\u001b[0m\u001b[0mkwargs\u001b[0m\u001b[0;34m)\u001b[0m\u001b[0;34m\u001b[0m\u001b[0;34m\u001b[0m\u001b[0m\n\u001b[0m\u001b[1;32m    728\u001b[0m         for hook in itertools.chain(\n\u001b[1;32m    729\u001b[0m                 \u001b[0m_global_forward_hooks\u001b[0m\u001b[0;34m.\u001b[0m\u001b[0mvalues\u001b[0m\u001b[0;34m(\u001b[0m\u001b[0;34m)\u001b[0m\u001b[0;34m,\u001b[0m\u001b[0;34m\u001b[0m\u001b[0;34m\u001b[0m\u001b[0m\n",
            "\u001b[0;32m<ipython-input-20-be4cdcf5416f>\u001b[0m in \u001b[0;36mforward\u001b[0;34m(self, x)\u001b[0m\n\u001b[1;32m     19\u001b[0m         \u001b[0mx\u001b[0m \u001b[0;34m=\u001b[0m \u001b[0mself\u001b[0m\u001b[0;34m.\u001b[0m\u001b[0mpool\u001b[0m\u001b[0;34m(\u001b[0m\u001b[0mF\u001b[0m\u001b[0;34m.\u001b[0m\u001b[0mrelu\u001b[0m\u001b[0;34m(\u001b[0m\u001b[0mself\u001b[0m\u001b[0;34m.\u001b[0m\u001b[0mconv3\u001b[0m\u001b[0;34m(\u001b[0m\u001b[0mx\u001b[0m\u001b[0;34m)\u001b[0m\u001b[0;34m)\u001b[0m\u001b[0;34m)\u001b[0m\u001b[0;34m\u001b[0m\u001b[0;34m\u001b[0m\u001b[0m\n\u001b[1;32m     20\u001b[0m         \u001b[0mx\u001b[0m \u001b[0;34m=\u001b[0m \u001b[0mx\u001b[0m\u001b[0;34m.\u001b[0m\u001b[0mview\u001b[0m\u001b[0;34m(\u001b[0m\u001b[0mx\u001b[0m\u001b[0;34m.\u001b[0m\u001b[0mshape\u001b[0m\u001b[0;34m[\u001b[0m\u001b[0;36m0\u001b[0m\u001b[0;34m]\u001b[0m\u001b[0;34m,\u001b[0m \u001b[0;34m-\u001b[0m\u001b[0;36m1\u001b[0m\u001b[0;34m)\u001b[0m\u001b[0;34m\u001b[0m\u001b[0;34m\u001b[0m\u001b[0m\n\u001b[0;32m---> 21\u001b[0;31m         \u001b[0mx\u001b[0m \u001b[0;34m=\u001b[0m \u001b[0mF\u001b[0m\u001b[0;34m.\u001b[0m\u001b[0mrelu\u001b[0m\u001b[0;34m(\u001b[0m\u001b[0mself\u001b[0m\u001b[0;34m.\u001b[0m\u001b[0mfc1\u001b[0m\u001b[0;34m(\u001b[0m\u001b[0mx\u001b[0m\u001b[0;34m)\u001b[0m\u001b[0;34m)\u001b[0m\u001b[0;34m\u001b[0m\u001b[0;34m\u001b[0m\u001b[0m\n\u001b[0m\u001b[1;32m     22\u001b[0m         \u001b[0mx\u001b[0m \u001b[0;34m=\u001b[0m \u001b[0mF\u001b[0m\u001b[0;34m.\u001b[0m\u001b[0mrelu\u001b[0m\u001b[0;34m(\u001b[0m\u001b[0mself\u001b[0m\u001b[0;34m.\u001b[0m\u001b[0mfc2\u001b[0m\u001b[0;34m(\u001b[0m\u001b[0mx\u001b[0m\u001b[0;34m)\u001b[0m\u001b[0;34m)\u001b[0m\u001b[0;34m\u001b[0m\u001b[0;34m\u001b[0m\u001b[0m\n\u001b[1;32m     23\u001b[0m         \u001b[0mx\u001b[0m \u001b[0;34m=\u001b[0m \u001b[0mself\u001b[0m\u001b[0;34m.\u001b[0m\u001b[0mfc3\u001b[0m\u001b[0;34m(\u001b[0m\u001b[0mx\u001b[0m\u001b[0;34m)\u001b[0m\u001b[0;34m\u001b[0m\u001b[0;34m\u001b[0m\u001b[0m\n",
            "\u001b[0;32m/usr/local/lib/python3.6/dist-packages/torch/nn/modules/module.py\u001b[0m in \u001b[0;36m_call_impl\u001b[0;34m(self, *input, **kwargs)\u001b[0m\n\u001b[1;32m    725\u001b[0m             \u001b[0mresult\u001b[0m \u001b[0;34m=\u001b[0m \u001b[0mself\u001b[0m\u001b[0;34m.\u001b[0m\u001b[0m_slow_forward\u001b[0m\u001b[0;34m(\u001b[0m\u001b[0;34m*\u001b[0m\u001b[0minput\u001b[0m\u001b[0;34m,\u001b[0m \u001b[0;34m**\u001b[0m\u001b[0mkwargs\u001b[0m\u001b[0;34m)\u001b[0m\u001b[0;34m\u001b[0m\u001b[0;34m\u001b[0m\u001b[0m\n\u001b[1;32m    726\u001b[0m         \u001b[0;32melse\u001b[0m\u001b[0;34m:\u001b[0m\u001b[0;34m\u001b[0m\u001b[0;34m\u001b[0m\u001b[0m\n\u001b[0;32m--> 727\u001b[0;31m             \u001b[0mresult\u001b[0m \u001b[0;34m=\u001b[0m \u001b[0mself\u001b[0m\u001b[0;34m.\u001b[0m\u001b[0mforward\u001b[0m\u001b[0;34m(\u001b[0m\u001b[0;34m*\u001b[0m\u001b[0minput\u001b[0m\u001b[0;34m,\u001b[0m \u001b[0;34m**\u001b[0m\u001b[0mkwargs\u001b[0m\u001b[0;34m)\u001b[0m\u001b[0;34m\u001b[0m\u001b[0;34m\u001b[0m\u001b[0m\n\u001b[0m\u001b[1;32m    728\u001b[0m         for hook in itertools.chain(\n\u001b[1;32m    729\u001b[0m                 \u001b[0m_global_forward_hooks\u001b[0m\u001b[0;34m.\u001b[0m\u001b[0mvalues\u001b[0m\u001b[0;34m(\u001b[0m\u001b[0;34m)\u001b[0m\u001b[0;34m,\u001b[0m\u001b[0;34m\u001b[0m\u001b[0;34m\u001b[0m\u001b[0m\n",
            "\u001b[0;32m/usr/local/lib/python3.6/dist-packages/torch/nn/modules/linear.py\u001b[0m in \u001b[0;36mforward\u001b[0;34m(self, input)\u001b[0m\n\u001b[1;32m     91\u001b[0m \u001b[0;34m\u001b[0m\u001b[0m\n\u001b[1;32m     92\u001b[0m     \u001b[0;32mdef\u001b[0m \u001b[0mforward\u001b[0m\u001b[0;34m(\u001b[0m\u001b[0mself\u001b[0m\u001b[0;34m,\u001b[0m \u001b[0minput\u001b[0m\u001b[0;34m:\u001b[0m \u001b[0mTensor\u001b[0m\u001b[0;34m)\u001b[0m \u001b[0;34m->\u001b[0m \u001b[0mTensor\u001b[0m\u001b[0;34m:\u001b[0m\u001b[0;34m\u001b[0m\u001b[0;34m\u001b[0m\u001b[0m\n\u001b[0;32m---> 93\u001b[0;31m         \u001b[0;32mreturn\u001b[0m \u001b[0mF\u001b[0m\u001b[0;34m.\u001b[0m\u001b[0mlinear\u001b[0m\u001b[0;34m(\u001b[0m\u001b[0minput\u001b[0m\u001b[0;34m,\u001b[0m \u001b[0mself\u001b[0m\u001b[0;34m.\u001b[0m\u001b[0mweight\u001b[0m\u001b[0;34m,\u001b[0m \u001b[0mself\u001b[0m\u001b[0;34m.\u001b[0m\u001b[0mbias\u001b[0m\u001b[0;34m)\u001b[0m\u001b[0;34m\u001b[0m\u001b[0;34m\u001b[0m\u001b[0m\n\u001b[0m\u001b[1;32m     94\u001b[0m \u001b[0;34m\u001b[0m\u001b[0m\n\u001b[1;32m     95\u001b[0m     \u001b[0;32mdef\u001b[0m \u001b[0mextra_repr\u001b[0m\u001b[0;34m(\u001b[0m\u001b[0mself\u001b[0m\u001b[0;34m)\u001b[0m \u001b[0;34m->\u001b[0m \u001b[0mstr\u001b[0m\u001b[0;34m:\u001b[0m\u001b[0;34m\u001b[0m\u001b[0;34m\u001b[0m\u001b[0m\n",
            "\u001b[0;32m/usr/local/lib/python3.6/dist-packages/torch/nn/functional.py\u001b[0m in \u001b[0;36mlinear\u001b[0;34m(input, weight, bias)\u001b[0m\n\u001b[1;32m   1688\u001b[0m     \u001b[0;32mif\u001b[0m \u001b[0minput\u001b[0m\u001b[0;34m.\u001b[0m\u001b[0mdim\u001b[0m\u001b[0;34m(\u001b[0m\u001b[0;34m)\u001b[0m \u001b[0;34m==\u001b[0m \u001b[0;36m2\u001b[0m \u001b[0;32mand\u001b[0m \u001b[0mbias\u001b[0m \u001b[0;32mis\u001b[0m \u001b[0;32mnot\u001b[0m \u001b[0;32mNone\u001b[0m\u001b[0;34m:\u001b[0m\u001b[0;34m\u001b[0m\u001b[0;34m\u001b[0m\u001b[0m\n\u001b[1;32m   1689\u001b[0m         \u001b[0;31m# fused op is marginally faster\u001b[0m\u001b[0;34m\u001b[0m\u001b[0;34m\u001b[0m\u001b[0;34m\u001b[0m\u001b[0m\n\u001b[0;32m-> 1690\u001b[0;31m         \u001b[0mret\u001b[0m \u001b[0;34m=\u001b[0m \u001b[0mtorch\u001b[0m\u001b[0;34m.\u001b[0m\u001b[0maddmm\u001b[0m\u001b[0;34m(\u001b[0m\u001b[0mbias\u001b[0m\u001b[0;34m,\u001b[0m \u001b[0minput\u001b[0m\u001b[0;34m,\u001b[0m \u001b[0mweight\u001b[0m\u001b[0;34m.\u001b[0m\u001b[0mt\u001b[0m\u001b[0;34m(\u001b[0m\u001b[0;34m)\u001b[0m\u001b[0;34m)\u001b[0m\u001b[0;34m\u001b[0m\u001b[0;34m\u001b[0m\u001b[0m\n\u001b[0m\u001b[1;32m   1691\u001b[0m     \u001b[0;32melse\u001b[0m\u001b[0;34m:\u001b[0m\u001b[0;34m\u001b[0m\u001b[0;34m\u001b[0m\u001b[0m\n\u001b[1;32m   1692\u001b[0m         \u001b[0moutput\u001b[0m \u001b[0;34m=\u001b[0m \u001b[0minput\u001b[0m\u001b[0;34m.\u001b[0m\u001b[0mmatmul\u001b[0m\u001b[0;34m(\u001b[0m\u001b[0mweight\u001b[0m\u001b[0;34m.\u001b[0m\u001b[0mt\u001b[0m\u001b[0;34m(\u001b[0m\u001b[0;34m)\u001b[0m\u001b[0;34m)\u001b[0m\u001b[0;34m\u001b[0m\u001b[0;34m\u001b[0m\u001b[0m\n",
            "\u001b[0;31mRuntimeError\u001b[0m: mat1 and mat2 shapes cannot be multiplied (32x256 and 7744x256)"
          ]
        }
      ]
    },
    {
      "cell_type": "code",
      "metadata": {
        "colab": {
          "base_uri": "https://localhost:8080/"
        },
        "id": "D83jQYkB7pLB",
        "outputId": "c2654c70-5400-4385-839c-6892f3734daa"
      },
      "source": [
        "# Make an autoencoder with 4 convolutions, a kernel size of 8 and a stride of 1\r\n",
        "\r\n",
        "class MyModel3(nn.Module):\r\n",
        "    def __init__(self):\r\n",
        "        super().__init__()\r\n",
        "        self.conv1 = nn.Conv2d(3, 8, kernel_size=8, stride=1, padding=1)\r\n",
        "        self.conv2 = nn.Conv2d(8, 32, kernel_size=8, stride=1, padding=1)\r\n",
        "        self.conv3 = nn.Conv2d(32, 64, kernel_size=8, stride=1, padding=1)\r\n",
        "        self.conv4 = nn.Conv2d(64, 128, kernel_size=8, stride=1, padding=1)\r\n",
        "        self.fc1 = nn.Linear(1152, 256)\r\n",
        "        self.fc2 = nn.Linear(256, 128)\r\n",
        "        self.fc3 = nn.Linear(128, 10)\r\n",
        "        self.pool = nn.MaxPool2d(2, 2)\r\n",
        "        self.drop = nn.Dropout(p=0.2)\r\n",
        "    \r\n",
        "    def forward(self, x):\r\n",
        "        x = self.pool(F.relu(self.conv1(x)))\r\n",
        "        x = self.drop(x)\r\n",
        "        x = self.pool(F.relu(self.conv2(x)))\r\n",
        "        x = self.pool(F.relu(self.conv3(x)))\r\n",
        "        x = self.drop(x)\r\n",
        "        x = self.pool(F.relu(self.conv4(x)))\r\n",
        "        x = x.view(x.shape[0], -1)\r\n",
        "        x = F.relu(self.fc1(x))\r\n",
        "        x = F.relu(self.fc2(x))\r\n",
        "        x = self.fc3(x)\r\n",
        "        return x\r\n",
        "\r\n",
        "model3 = MyModel3()\r\n",
        "model3(images).shape"
      ],
      "execution_count": null,
      "outputs": [
        {
          "output_type": "execute_result",
          "data": {
            "text/plain": [
              "torch.Size([32, 10])"
            ]
          },
          "metadata": {
            "tags": []
          },
          "execution_count": 6
        }
      ]
    },
    {
      "cell_type": "code",
      "metadata": {
        "colab": {
          "base_uri": "https://localhost:8080/"
        },
        "id": "IDsn7VBc8tNw",
        "outputId": "1a77ec0e-c024-476a-a6ba-bb96f32fc118"
      },
      "source": [
        "#  Make an autoencoder with 3 convolutions, a kernel size of 4 and a stride of 2\r\n",
        "\r\n",
        "class MyModel4(nn.Module):\r\n",
        "    def __init__(self):\r\n",
        "        super().__init__()\r\n",
        "        self.conv1 = nn.Conv2d(3, 8, kernel_size=4, stride=2, padding=1)\r\n",
        "        self.conv2 = nn.Conv2d(8, 32, kernel_size=4, stride=2, padding=1)\r\n",
        "        self.conv3 = nn.Conv2d(32, 64, kernel_size=4, stride=2, padding=1)\r\n",
        "        self.fc1 = nn.Linear(256, 256)\r\n",
        "        self.fc2 = nn.Linear(256, 128)\r\n",
        "        self.fc3 = nn.Linear(128, 10)\r\n",
        "        self.pool = nn.MaxPool2d(2, 2)\r\n",
        "        self.drop = nn.Dropout(p=0.2)\r\n",
        "    \r\n",
        "    def forward(self, x):\r\n",
        "        x = self.pool(F.relu(self.conv1(x)))\r\n",
        "        x = self.drop(x)\r\n",
        "        x = self.pool(F.relu(self.conv2(x)))\r\n",
        "        x = self.pool(F.relu(self.conv3(x)))\r\n",
        "        x = self.drop(x)\r\n",
        "        x = x.view(x.shape[0], -1)\r\n",
        "        x = F.relu(self.fc1(x))\r\n",
        "        x = F.relu(self.fc2(x))\r\n",
        "        x = self.fc3(x)\r\n",
        "        return x\r\n",
        "\r\n",
        "model4 = MyModel4()\r\n",
        "model4(images).shape"
      ],
      "execution_count": null,
      "outputs": [
        {
          "output_type": "execute_result",
          "data": {
            "text/plain": [
              "torch.Size([32, 10])"
            ]
          },
          "metadata": {
            "tags": []
          },
          "execution_count": 5
        }
      ]
    },
    {
      "cell_type": "code",
      "metadata": {
        "id": "YsSJSx-k2-SK"
      },
      "source": [
        "# define training function\r\n",
        "\r\n",
        "def train(model, \r\n",
        "          loaders, \r\n",
        "          optimizer=None,\r\n",
        "          criterion=nn.CrossEntropyLoss(), \r\n",
        "          epochs=5, \r\n",
        "          reload_=False):\r\n",
        "        import time\r\n",
        "        device = torch.device(\"cuda\" if torch.cuda.is_available() else \"cpu\")\r\n",
        "        model.to(device)\r\n",
        "        \r\n",
        "        if optimizer == None:\r\n",
        "            optimizer = optim.Adam(params=model.parameters(), lr=0.001)\r\n",
        "        trainloader, testloader = loaders()\r\n",
        "    \r\n",
        "        print(\"Training on: \", device)\r\n",
        "        train_losses = []\r\n",
        "        test_losses = []\r\n",
        "        accuracies = []\r\n",
        "        start_time = time.time()\r\n",
        "\r\n",
        "        for epoch in range(epochs):\r\n",
        "            \r\n",
        "            print(f\"New epoch: {epoch}\")\r\n",
        "            # training\r\n",
        "            trainloss = []\r\n",
        "            for images, labels in trainloader:\r\n",
        "                images, labels = images.to(device), labels.to(device)\r\n",
        "                optimizer.zero_grad()\r\n",
        "                out = model(images)\r\n",
        "                loss = criterion(out, labels)\r\n",
        "                loss.backward()\r\n",
        "                optimizer.step()\r\n",
        "                trainloss.append(loss.item())\r\n",
        "            trainloss = np.mean(trainloss)\r\n",
        "            train_losses.append(trainloss)\r\n",
        "            print(f\"Training loss: {round(trainloss, 3)}\")\r\n",
        "\r\n",
        "            \r\n",
        "            \r\n",
        "\r\n",
        "            # validation\r\n",
        "            testloss = []\r\n",
        "            for images, labels in testloader:\r\n",
        "\r\n",
        "                images, labels = images.to(device), labels.to(device)\r\n",
        "                with torch.no_grad():\r\n",
        "                    out = model(images)\r\n",
        "                    loss = criterion(out, labels)\r\n",
        "                    testloss.append(loss.item())\r\n",
        "            testloss = np.mean(testloss)\r\n",
        "\r\n",
        "            test_losses.append(testloss)\r\n",
        "            print(f\"Validation loss: {round(testloss, 3)}\")\r\n",
        "    \r\n",
        "            # final accuracy\r\n",
        "            \r\n",
        "            accuracy = []\r\n",
        "            for images, labels in testloader:\r\n",
        "                images, labels = images.to(device), labels.to(device)\r\n",
        "                with torch.no_grad():\r\n",
        "                    out = model(images)\r\n",
        "                    topv, topi = torch.topk(out, 1, dim=1)\r\n",
        "                    labels.resize_(*topi.shape)\r\n",
        "                    eq = topi == labels\r\n",
        "                    acc = torch.mean(eq.type(torch.FloatTensor))\r\n",
        "                    accuracy.append(acc.item())\r\n",
        "            accuracy = np.mean(accuracy)\r\n",
        "            accuracies.append(accuracy)\r\n",
        "            print(f\"The accuracy is: {round(accuracy * 100, 1)}%\")\r\n",
        "            if reload_:\r\n",
        "                trainloader, testloader = loaders()\r\n",
        "\r\n",
        "\r\n",
        "            \r\n",
        "    \r\n",
        "            \r\n",
        "    \r\n",
        "        end_time = time.time()\r\n",
        "        time = end_time - start_time\r\n",
        "        print(time)\r\n",
        "        return(time, train_losses, test_losses, accuracies)\r\n",
        "  "
      ],
      "execution_count": null,
      "outputs": []
    },
    {
      "cell_type": "code",
      "metadata": {
        "colab": {
          "base_uri": "https://localhost:8080/"
        },
        "id": "zz_gJIp-3l2l",
        "outputId": "94234de4-476a-406b-835b-79119cfcc5c3"
      },
      "source": [
        "# train first model\r\n",
        "\r\n",
        "time1, train_losses1, test_losses1, accuracies1 = train(model=model1,\r\n",
        "               loaders=loaders,\r\n",
        "               optimizer=optim.Adam(params=model1.parameters(), lr=0.001),\r\n",
        "               criterion=nn.CrossEntropyLoss(), reload_=True,\r\n",
        "               epochs=10)"
      ],
      "execution_count": null,
      "outputs": [
        {
          "output_type": "stream",
          "text": [
            "Files already downloaded and verified\n",
            "Files already downloaded and verified\n",
            "Training on:  cuda\n",
            "New epoch: 0\n",
            "Training loss: 1.492\n",
            "Validation loss: 1.221\n",
            "The accuracy is: 55.3%\n",
            "Files already downloaded and verified\n",
            "Files already downloaded and verified\n",
            "New epoch: 1\n",
            "Training loss: 1.12\n",
            "Validation loss: 1.062\n",
            "The accuracy is: 62.5%\n",
            "Files already downloaded and verified\n",
            "Files already downloaded and verified\n",
            "New epoch: 2\n",
            "Training loss: 0.923\n",
            "Validation loss: 0.931\n",
            "The accuracy is: 67.1%\n",
            "Files already downloaded and verified\n",
            "Files already downloaded and verified\n",
            "New epoch: 3\n",
            "Training loss: 0.806\n",
            "Validation loss: 0.945\n",
            "The accuracy is: 67.4%\n",
            "Files already downloaded and verified\n",
            "Files already downloaded and verified\n",
            "New epoch: 4\n",
            "Training loss: 0.714\n",
            "Validation loss: 0.881\n",
            "The accuracy is: 69.1%\n",
            "Files already downloaded and verified\n",
            "Files already downloaded and verified\n",
            "New epoch: 5\n",
            "Training loss: 0.638\n",
            "Validation loss: 0.896\n",
            "The accuracy is: 69.9%\n",
            "Files already downloaded and verified\n",
            "Files already downloaded and verified\n",
            "New epoch: 6\n",
            "Training loss: 0.576\n",
            "Validation loss: 0.875\n",
            "The accuracy is: 70.9%\n",
            "Files already downloaded and verified\n",
            "Files already downloaded and verified\n",
            "New epoch: 7\n",
            "Training loss: 0.516\n",
            "Validation loss: 0.912\n",
            "The accuracy is: 70.5%\n",
            "Files already downloaded and verified\n",
            "Files already downloaded and verified\n",
            "New epoch: 8\n",
            "Training loss: 0.464\n",
            "Validation loss: 0.905\n",
            "The accuracy is: 70.3%\n",
            "Files already downloaded and verified\n",
            "Files already downloaded and verified\n",
            "New epoch: 9\n",
            "Training loss: 0.424\n",
            "Validation loss: 1.016\n",
            "The accuracy is: 69.1%\n",
            "Files already downloaded and verified\n",
            "Files already downloaded and verified\n",
            "814.1888461112976\n"
          ],
          "name": "stdout"
        }
      ]
    },
    {
      "cell_type": "code",
      "metadata": {
        "colab": {
          "base_uri": "https://localhost:8080/"
        },
        "id": "WXNIVXcT7GjZ",
        "outputId": "7998cba8-2898-4278-cf43-59d295885e35"
      },
      "source": [
        "# train second model\r\n",
        "\r\n",
        "time2, train_losses2, test_losses2, accuracies2 = train(model=model2,\r\n",
        "               loaders=loaders,\r\n",
        "               optimizer=optim.Adam(params=model2.parameters(), lr=0.001),\r\n",
        "               criterion=nn.CrossEntropyLoss(),reload_=True,\r\n",
        "               epochs=10)"
      ],
      "execution_count": null,
      "outputs": [
        {
          "output_type": "stream",
          "text": [
            "Files already downloaded and verified\n",
            "Files already downloaded and verified\n",
            "Training on:  cuda\n",
            "New epoch: 0\n",
            "Training loss: 1.531\n",
            "Validation loss: 1.265\n",
            "The accuracy is: 54.7%\n",
            "Files already downloaded and verified\n",
            "Files already downloaded and verified\n",
            "New epoch: 1\n",
            "Training loss: 1.156\n",
            "Validation loss: 1.076\n",
            "The accuracy is: 62.3%\n",
            "Files already downloaded and verified\n",
            "Files already downloaded and verified\n",
            "New epoch: 2\n",
            "Training loss: 0.975\n",
            "Validation loss: 1.004\n",
            "The accuracy is: 65.3%\n",
            "Files already downloaded and verified\n",
            "Files already downloaded and verified\n",
            "New epoch: 3\n",
            "Training loss: 0.857\n",
            "Validation loss: 0.96\n",
            "The accuracy is: 67.0%\n",
            "Files already downloaded and verified\n",
            "Files already downloaded and verified\n",
            "New epoch: 4\n",
            "Training loss: 0.784\n",
            "Validation loss: 0.958\n",
            "The accuracy is: 67.2%\n",
            "Files already downloaded and verified\n",
            "Files already downloaded and verified\n",
            "New epoch: 5\n",
            "Training loss: 0.719\n",
            "Validation loss: 0.913\n",
            "The accuracy is: 69.7%\n",
            "Files already downloaded and verified\n",
            "Files already downloaded and verified\n",
            "New epoch: 6\n",
            "Training loss: 0.672\n",
            "Validation loss: 0.948\n",
            "The accuracy is: 69.0%\n",
            "Files already downloaded and verified\n",
            "Files already downloaded and verified\n",
            "New epoch: 7\n",
            "Training loss: 0.629\n",
            "Validation loss: 0.934\n",
            "The accuracy is: 69.9%\n",
            "Files already downloaded and verified\n",
            "Files already downloaded and verified\n",
            "New epoch: 8\n",
            "Training loss: 0.582\n",
            "Validation loss: 0.983\n",
            "The accuracy is: 69.5%\n",
            "Files already downloaded and verified\n",
            "Files already downloaded and verified\n",
            "New epoch: 9\n",
            "Training loss: 0.55\n",
            "Validation loss: 1.031\n",
            "The accuracy is: 69.1%\n",
            "Files already downloaded and verified\n",
            "Files already downloaded and verified\n",
            "831.8402183055878\n"
          ],
          "name": "stdout"
        }
      ]
    },
    {
      "cell_type": "code",
      "metadata": {
        "colab": {
          "base_uri": "https://localhost:8080/"
        },
        "id": "vloNyY5b_PO9",
        "outputId": "3e222154-b874-4fa4-c8b9-1360711208d8"
      },
      "source": [
        "# train thrid model\r\n",
        "\r\n",
        "time3, train_losses3, test_losses3, accuracies3 = train(model=model3,\r\n",
        "               loaders=loaders,\r\n",
        "               optimizer=optim.Adam(params=model3.parameters(), lr=0.001),\r\n",
        "               criterion=nn.CrossEntropyLoss(),reload_=True,\r\n",
        "               epochs=10)"
      ],
      "execution_count": null,
      "outputs": [
        {
          "output_type": "stream",
          "text": [
            "Files already downloaded and verified\n",
            "Files already downloaded and verified\n",
            "Training on:  cuda\n",
            "New epoch: 0\n",
            "Training loss: 1.63\n",
            "Validation loss: 1.307\n",
            "The accuracy is: 52.8%\n",
            "Files already downloaded and verified\n",
            "Files already downloaded and verified\n",
            "New epoch: 1\n",
            "Training loss: 1.195\n",
            "Validation loss: 1.314\n",
            "The accuracy is: 56.8%\n",
            "Files already downloaded and verified\n",
            "Files already downloaded and verified\n",
            "New epoch: 2\n",
            "Training loss: 1.019\n",
            "Validation loss: 0.992\n",
            "The accuracy is: 65.8%\n",
            "Files already downloaded and verified\n",
            "Files already downloaded and verified\n",
            "New epoch: 3\n",
            "Training loss: 0.928\n",
            "Validation loss: 0.973\n",
            "The accuracy is: 67.7%\n",
            "Files already downloaded and verified\n",
            "Files already downloaded and verified\n",
            "New epoch: 4\n",
            "Training loss: 0.855\n",
            "Validation loss: 0.889\n",
            "The accuracy is: 69.7%\n",
            "Files already downloaded and verified\n",
            "Files already downloaded and verified\n",
            "New epoch: 5\n",
            "Training loss: 0.81\n",
            "Validation loss: 0.903\n",
            "The accuracy is: 70.3%\n",
            "Files already downloaded and verified\n",
            "Files already downloaded and verified\n",
            "New epoch: 6\n",
            "Training loss: 0.767\n",
            "Validation loss: 0.865\n",
            "The accuracy is: 71.5%\n",
            "Files already downloaded and verified\n",
            "Files already downloaded and verified\n",
            "New epoch: 7\n",
            "Training loss: 0.745\n",
            "Validation loss: 0.844\n",
            "The accuracy is: 72.2%\n",
            "Files already downloaded and verified\n",
            "Files already downloaded and verified\n",
            "New epoch: 8\n",
            "Training loss: 0.714\n",
            "Validation loss: 0.825\n",
            "The accuracy is: 73.2%\n",
            "Files already downloaded and verified\n",
            "Files already downloaded and verified\n",
            "New epoch: 9\n",
            "Training loss: 0.684\n",
            "Validation loss: 0.869\n",
            "The accuracy is: 72.6%\n",
            "Files already downloaded and verified\n",
            "Files already downloaded and verified\n",
            "834.70476770401\n"
          ],
          "name": "stdout"
        }
      ]
    },
    {
      "cell_type": "code",
      "metadata": {
        "id": "BsDUigbt_S2f",
        "colab": {
          "base_uri": "https://localhost:8080/"
        },
        "outputId": "e1ce018d-3aa9-4be1-c8a3-a0200e381a87"
      },
      "source": [
        "# train fourth model\r\n",
        "\r\n",
        "time4, train_losses4, test_losses4, accuracies4 = train(model=model4,\r\n",
        "               loaders=loaders,\r\n",
        "               optimizer=optim.Adam(params=model4.parameters(), lr=0.001),\r\n",
        "               criterion=nn.CrossEntropyLoss(),reload_=True,\r\n",
        "               epochs=40)"
      ],
      "execution_count": null,
      "outputs": [
        {
          "output_type": "stream",
          "text": [
            "Files already downloaded and verified\n",
            "Files already downloaded and verified\n",
            "Training on:  cuda\n",
            "New epoch: 0\n",
            "Training loss: 1.643\n",
            "Validation loss: 1.406\n",
            "The accuracy is: 48.6%\n",
            "Files already downloaded and verified\n",
            "Files already downloaded and verified\n",
            "New epoch: 1\n",
            "Training loss: 1.357\n",
            "Validation loss: 1.285\n",
            "The accuracy is: 53.4%\n",
            "Files already downloaded and verified\n",
            "Files already downloaded and verified\n",
            "New epoch: 2\n",
            "Training loss: 1.236\n",
            "Validation loss: 1.197\n",
            "The accuracy is: 56.8%\n",
            "Files already downloaded and verified\n",
            "Files already downloaded and verified\n",
            "New epoch: 3\n",
            "Training loss: 1.149\n",
            "Validation loss: 1.112\n",
            "The accuracy is: 60.1%\n",
            "Files already downloaded and verified\n",
            "Files already downloaded and verified\n",
            "New epoch: 4\n",
            "Training loss: 1.087\n",
            "Validation loss: 1.096\n",
            "The accuracy is: 60.8%\n",
            "Files already downloaded and verified\n",
            "Files already downloaded and verified\n",
            "New epoch: 5\n",
            "Training loss: 1.042\n",
            "Validation loss: 1.076\n",
            "The accuracy is: 61.2%\n",
            "Files already downloaded and verified\n",
            "Files already downloaded and verified\n",
            "New epoch: 6\n",
            "Training loss: 1.006\n",
            "Validation loss: 1.056\n",
            "The accuracy is: 62.5%\n",
            "Files already downloaded and verified\n",
            "Files already downloaded and verified\n",
            "New epoch: 7\n",
            "Training loss: 0.972\n",
            "Validation loss: 1.025\n",
            "The accuracy is: 63.3%\n",
            "Files already downloaded and verified\n",
            "Files already downloaded and verified\n",
            "New epoch: 8\n",
            "Training loss: 0.949\n",
            "Validation loss: 1.017\n",
            "The accuracy is: 64.0%\n",
            "Files already downloaded and verified\n",
            "Files already downloaded and verified\n",
            "New epoch: 9\n",
            "Training loss: 0.926\n",
            "Validation loss: 1.003\n",
            "The accuracy is: 64.0%\n",
            "Files already downloaded and verified\n",
            "Files already downloaded and verified\n",
            "New epoch: 10\n",
            "Training loss: 0.911\n",
            "Validation loss: 0.972\n",
            "The accuracy is: 65.0%\n",
            "Files already downloaded and verified\n",
            "Files already downloaded and verified\n",
            "New epoch: 11\n",
            "Training loss: 0.893\n",
            "Validation loss: 0.962\n",
            "The accuracy is: 65.8%\n",
            "Files already downloaded and verified\n",
            "Files already downloaded and verified\n",
            "New epoch: 12\n",
            "Training loss: 0.881\n",
            "1195.9469861984253\n"
          ],
          "name": "stdout"
        }
      ]
    },
    {
      "cell_type": "code",
      "metadata": {
        "id": "Tik492EaehHu"
      },
      "source": [
        "# save models\r\n",
        "\r\n",
        "torch.save(model1.state_dict(), 'CNN_341.model')\r\n",
        "torch.save(model2.state_dict(), 'CNN_381.model')\r\n",
        "torch.save(model3.state_dict(), 'CNN_481.model')\r\n",
        "torch.save(model4.state_dict(), 'CNN_342.model')"
      ],
      "execution_count": null,
      "outputs": []
    }
  ]
}